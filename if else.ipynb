{
 "cells": [
  {
   "cell_type": "code",
   "execution_count": 1,
   "id": "c48a7058",
   "metadata": {},
   "outputs": [],
   "source": [
    "# < > <= >= == !="
   ]
  },
  {
   "cell_type": "code",
   "execution_count": 5,
   "id": "2c59b6b7",
   "metadata": {},
   "outputs": [
    {
     "name": "stdout",
     "output_type": "stream",
     "text": [
      "False\n"
     ]
    }
   ],
   "source": [
    "a = 10\n",
    "print(a == 5)"
   ]
  },
  {
   "cell_type": "code",
   "execution_count": 6,
   "id": "906ff7b8",
   "metadata": {},
   "outputs": [
    {
     "name": "stdout",
     "output_type": "stream",
     "text": [
      "True\n"
     ]
    }
   ],
   "source": [
    "a = 10\n",
    "print(a != 5)"
   ]
  },
  {
   "cell_type": "code",
   "execution_count": 7,
   "id": "43eb1762",
   "metadata": {},
   "outputs": [],
   "source": [
    "# if <condition>:\n",
    "#     <operations>\n",
    "# elif <conition>:\n",
    "#     <operations>\n",
    "# else:\n",
    "#     <operations>"
   ]
  },
  {
   "cell_type": "code",
   "execution_count": 9,
   "id": "6b2fb75e",
   "metadata": {},
   "outputs": [
    {
     "name": "stdout",
     "output_type": "stream",
     "text": [
      "Enter x = -10\n",
      "The is -ve\n"
     ]
    }
   ],
   "source": [
    "x = int(input(\"Enter x = \"))\n",
    "if x >= 0:\n",
    "    print(\"The no is +ve\")\n",
    "else:\n",
    "    print(\"The is -ve\")"
   ]
  },
  {
   "cell_type": "code",
   "execution_count": 13,
   "id": "0eaa4685",
   "metadata": {},
   "outputs": [
    {
     "name": "stdout",
     "output_type": "stream",
     "text": [
      "Enter x = 11\n",
      "The no is odd\n"
     ]
    }
   ],
   "source": [
    "x = int(input(\"Enter x = \"))\n",
    "if x%2==0:\n",
    "    print(\"The no is even\")\n",
    "else:\n",
    "    print(\"The no is odd\")"
   ]
  },
  {
   "cell_type": "code",
   "execution_count": null,
   "id": "1444bb59",
   "metadata": {},
   "outputs": [],
   "source": [
    "a = int(input(\"Enter a = \"))\n",
    "b = int(input(\"Enter b = \"))\n",
    "if a>b:\n",
    "    print(\"a is greater than b \")\n",
    "elif b>a:\n",
    "    print(\"b is greater than a\")\n",
    "else:\n",
    "    print(\"a and b are equal!\")"
   ]
  },
  {
   "cell_type": "code",
   "execution_count": 1,
   "id": "358057ae",
   "metadata": {},
   "outputs": [
    {
     "name": "stdout",
     "output_type": "stream",
     "text": [
      "Enter a = 10\n",
      "Enter b = 3\n",
      "Enter + or - or * or /  +\n",
      "13\n"
     ]
    }
   ],
   "source": [
    "a = int(input(\"Enter a = \"))\n",
    "b = int(input(\"Enter b = \"))\n",
    "o = input(\"Enter + or - or * or /  \")\n",
    "if o == \"+\":\n",
    "    print(a+b)\n",
    "elif o == \"-\":\n",
    "    print(a-b)\n",
    "elif o == \"*\":\n",
    "    print(a*b)\n",
    "elif o == \"/\":\n",
    "    print(a/b)\n",
    "else:\n",
    "    print(\"Enter valid operator\")"
   ]
  },
  {
   "cell_type": "code",
   "execution_count": null,
   "id": "ebfe69a7",
   "metadata": {},
   "outputs": [],
   "source": [
    "physics = int(input(\"Enter physics marks = \"))\n",
    "chemistry = int(input(\"Enter chemistry marks = \"))\n",
    "math = int(input(\"Enter math marks = \"))\n",
    "english = int(input(\"Enter english marks = \"))\n",
    "nepali = int(input(\"Enter nepali = \"))\n",
    "\n",
    "total = physics + chemistry + math + english + nepali\n",
    "per = total/5\n",
    "\n",
    "if per >= 80:\n",
    "    grade = \"A\"\n",
    "elif per >=60:\n",
    "    grade = \"B\"\n",
    "elif per >= 45:\n",
    "    grade = \"C\"\n",
    "else:\n",
    "    grade = \"F\"\n",
    "    \n",
    "print(\"Total = \",total)\n",
    "print(\"Per = \",per)\n",
    "print(\"Grade = \",grade)"
   ]
  },
  {
   "cell_type": "code",
   "execution_count": 3,
   "id": "627cf138",
   "metadata": {},
   "outputs": [
    {
     "name": "stdout",
     "output_type": "stream",
     "text": [
      "False\n",
      "False\n",
      "False\n",
      "True\n"
     ]
    }
   ],
   "source": [
    "#logical\n",
    "#and & \n",
    "print(True and False)\n",
    "print(False and True)\n",
    "print(False and False)\n",
    "print(True and True)"
   ]
  },
  {
   "cell_type": "code",
   "execution_count": 4,
   "id": "a7b18575",
   "metadata": {},
   "outputs": [
    {
     "name": "stdout",
     "output_type": "stream",
     "text": [
      "True\n",
      "True\n",
      "False\n",
      "True\n"
     ]
    }
   ],
   "source": [
    "#or |\n",
    "print(True or False)\n",
    "print(False or True)\n",
    "print(False or False)\n",
    "print(True or True)"
   ]
  },
  {
   "cell_type": "code",
   "execution_count": 5,
   "id": "c4793e27",
   "metadata": {},
   "outputs": [
    {
     "name": "stdout",
     "output_type": "stream",
     "text": [
      "Enter a = 10\n",
      "Enter b = 0\n",
      "Enter + or - or * or /  /\n"
     ]
    },
    {
     "ename": "ZeroDivisionError",
     "evalue": "division by zero",
     "output_type": "error",
     "traceback": [
      "\u001b[1;31m---------------------------------------------------------------------------\u001b[0m",
      "\u001b[1;31mZeroDivisionError\u001b[0m                         Traceback (most recent call last)",
      "Input \u001b[1;32mIn [5]\u001b[0m, in \u001b[0;36m<cell line: 4>\u001b[1;34m()\u001b[0m\n\u001b[0;32m      9\u001b[0m     \u001b[38;5;28mprint\u001b[39m(a\u001b[38;5;241m*\u001b[39mb)\n\u001b[0;32m     10\u001b[0m \u001b[38;5;28;01melif\u001b[39;00m o \u001b[38;5;241m==\u001b[39m \u001b[38;5;124m\"\u001b[39m\u001b[38;5;124m/\u001b[39m\u001b[38;5;124m\"\u001b[39m:\n\u001b[1;32m---> 11\u001b[0m     \u001b[38;5;28mprint\u001b[39m(\u001b[43ma\u001b[49m\u001b[38;5;241;43m/\u001b[39;49m\u001b[43mb\u001b[49m)\n\u001b[0;32m     12\u001b[0m \u001b[38;5;28;01melse\u001b[39;00m:\n\u001b[0;32m     13\u001b[0m     \u001b[38;5;28mprint\u001b[39m(\u001b[38;5;124m\"\u001b[39m\u001b[38;5;124mEnter valid operator\u001b[39m\u001b[38;5;124m\"\u001b[39m)\n",
      "\u001b[1;31mZeroDivisionError\u001b[0m: division by zero"
     ]
    }
   ],
   "source": [
    "a = int(input(\"Enter a = \"))\n",
    "b = int(input(\"Enter b = \"))\n",
    "o = input(\"Enter + or - or * or /  \")\n",
    "if o == \"+\":\n",
    "    print(a+b)\n",
    "elif o == \"-\":\n",
    "    print(a-b)\n",
    "elif o == \"*\":\n",
    "    print(a*b)\n",
    "elif o == \"/\" and b != 0:\n",
    "    print(a/b)\n",
    "elif o == \"/\" and b == 0:\n",
    "    print(\"Tha value of b can not be zero.\")\n",
    "else:\n",
    "    print(\"Enter valid operator\")"
   ]
  },
  {
   "cell_type": "code",
   "execution_count": null,
   "id": "6841c88e",
   "metadata": {},
   "outputs": [],
   "source": [
    "physics = int(input(\"Enter physics marks = \"))\n",
    "chemistry = int(input(\"Enter chemistry marks = \"))\n",
    "math = int(input(\"Enter math marks = \"))\n",
    "english = int(input(\"Enter english marks = \"))\n",
    "nepali = int(input(\"Enter nepali = \"))\n",
    "\n",
    "if physics >=32 and chemistry>=32 and math >=32 and english>=32 and nepali>=32:\n",
    "    total = physics + chemistry + math + english + nepali\n",
    "    per = total/5\n",
    "\n",
    "    if per >= 80:\n",
    "        grade = \"A\"\n",
    "    elif per >=60:\n",
    "        grade = \"B\"\n",
    "    elif per >=45:\n",
    "        grade = \"C\"\n",
    "    else:\n",
    "        grade = \"D\"\n",
    "\n",
    "    print(\"Total = \",total)\n",
    "    print(\"Per = \",per)\n",
    "    print(\"Grade = \",grade)\n",
    "else:\n",
    "    print(\"grade = F\")"
   ]
  },
  {
   "cell_type": "code",
   "execution_count": 7,
   "id": "c8e4e50c",
   "metadata": {},
   "outputs": [
    {
     "name": "stdout",
     "output_type": "stream",
     "text": [
      "Enter x = 11\n",
      "The value of x is +ve and odd\n"
     ]
    }
   ],
   "source": [
    "x = int(input(\"Enter x = \"))\n",
    "if x >= 0 and x%2==0:\n",
    "    print(\"The value of x is +ve and even\")\n",
    "elif x >= 0 and  x%2!=0:\n",
    "    print(\"The value of x is +ve and odd\")\n",
    "elif x < 0 and  x%2==0:\n",
    "    print(\"The value of x is -ve and even\")\n",
    "else:\n",
    "    print(\"The value of x is -ve and odd\")"
   ]
  },
  {
   "cell_type": "code",
   "execution_count": 8,
   "id": "b7797804",
   "metadata": {},
   "outputs": [],
   "source": [
    "# nested if/else"
   ]
  },
  {
   "cell_type": "code",
   "execution_count": 9,
   "id": "a179c237",
   "metadata": {},
   "outputs": [],
   "source": [
    "# if <condition>:\n",
    "#     if <condition>:\n",
    "#         <operations>\n",
    "#     else:\n",
    "#         <operaions>\n",
    "# else:\n",
    "#     if <condition>:\n",
    "#         <operations>\n",
    "#     else:\n",
    "#         <operaions>"
   ]
  },
  {
   "cell_type": "code",
   "execution_count": null,
   "id": "e29b25e6",
   "metadata": {},
   "outputs": [],
   "source": [
    "x = int(input(\"Enter x = \"))\n",
    "if x >= 0:\n",
    "    if x%2 == 0:\n",
    "        print(\"The value of x is +ve and even\")\n",
    "    else:\n",
    "        print(\"The value of x is +ve and odd\")\n",
    "else:\n",
    "    if x%2 == 0:\n",
    "        print(\"The value of x is -ve and even\")\n",
    "    else:\n",
    "        print(\"The value of x is -ve and odd\")"
   ]
  },
  {
   "cell_type": "code",
   "execution_count": null,
   "id": "098ff025",
   "metadata": {},
   "outputs": [],
   "source": [
    "a = int(input(\"Enter a = \"))\n",
    "b = int(input(\"Enter b = \"))\n",
    "o = input(\"Enter + or - or * or /  \")\n",
    "if o == \"+\":\n",
    "    print(a+b)\n",
    "elif o == \"-\":\n",
    "    print(a-b)\n",
    "elif o == \"*\":\n",
    "    print(a*b)\n",
    "elif o == \"/\":\n",
    "    if b != 0:\n",
    "        print(a/b)\n",
    "    else:\n",
    "        print(\"The value of b can not be 0 while o = /\")\n",
    "else:\n",
    "    print(\"Enter valid operator\")"
   ]
  }
 ],
 "metadata": {
  "kernelspec": {
   "display_name": "Python 3 (ipykernel)",
   "language": "python",
   "name": "python3"
  },
  "language_info": {
   "codemirror_mode": {
    "name": "ipython",
    "version": 3
   },
   "file_extension": ".py",
   "mimetype": "text/x-python",
   "name": "python",
   "nbconvert_exporter": "python",
   "pygments_lexer": "ipython3",
   "version": "3.9.12"
  }
 },
 "nbformat": 4,
 "nbformat_minor": 5
}
