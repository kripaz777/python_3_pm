{
 "cells": [
  {
   "cell_type": "code",
   "execution_count": 1,
   "id": "6f937f15",
   "metadata": {},
   "outputs": [],
   "source": [
    "# Python data collection\n",
    "#list\n",
    "#tuple\n",
    "#dict\n",
    "#set"
   ]
  },
  {
   "cell_type": "code",
   "execution_count": 2,
   "id": "c3edd415",
   "metadata": {},
   "outputs": [],
   "source": [
    "# list\n",
    "# -indexing\n",
    "# -Multiple and duplicate data\n",
    "# -Ordered\n",
    "# -Mutable"
   ]
  },
  {
   "cell_type": "code",
   "execution_count": 3,
   "id": "429248fa",
   "metadata": {},
   "outputs": [
    {
     "name": "stdout",
     "output_type": "stream",
     "text": [
      "<class 'list'>\n",
      "<class 'list'>\n"
     ]
    }
   ],
   "source": [
    "#l = list()\n",
    "l = [\"Apple\",\"Ball\",\"Cat\",\"Dog\",\"Fish\"]\n",
    "a = [1,2,3,4,5,6,7,8,9,0]\n",
    "print(type(l))\n",
    "print(type(a))"
   ]
  },
  {
   "cell_type": "code",
   "execution_count": 8,
   "id": "738ca8c4",
   "metadata": {},
   "outputs": [
    {
     "name": "stdout",
     "output_type": "stream",
     "text": [
      "['Apple', 'Ball', 'Cat', 'Dog', 'Fish', 'Apple']\n",
      "Apple\n",
      "['Apple', 'Ball', 'Cat', 'Dog']\n",
      "['Apple', 'Cat', 'Fish']\n"
     ]
    }
   ],
   "source": [
    "l = [\"Apple\",\"Ball\",\"Cat\",\"Dog\",\"Fish\",\"Apple\"]\n",
    "print(l)\n",
    "print(l[0])\n",
    "print(l[0:4])\n",
    "print(l[0:5:2])"
   ]
  },
  {
   "cell_type": "code",
   "execution_count": 9,
   "id": "67e3b6ef",
   "metadata": {},
   "outputs": [
    {
     "name": "stdout",
     "output_type": "stream",
     "text": [
      "[1, 2, 3, 4, 5, 6, 7, 8, 9]\n"
     ]
    }
   ],
   "source": [
    "a = [1,2,3,4]\n",
    "b = [5,6,7,8,9]\n",
    "c = a+b\n",
    "print(c)"
   ]
  },
  {
   "cell_type": "code",
   "execution_count": 10,
   "id": "4d4b2141",
   "metadata": {},
   "outputs": [
    {
     "name": "stdout",
     "output_type": "stream",
     "text": [
      "[1, 2, 3, 4, 1, 2, 3, 4]\n"
     ]
    }
   ],
   "source": [
    "a = [1,2,3,4]\n",
    "print(a*2)"
   ]
  },
  {
   "cell_type": "code",
   "execution_count": 12,
   "id": "d2d2905a",
   "metadata": {},
   "outputs": [
    {
     "name": "stdout",
     "output_type": "stream",
     "text": [
      "Apple\n",
      "Ball\n",
      "Cat\n",
      "Dog\n",
      "Fish\n",
      "Apple\n"
     ]
    }
   ],
   "source": [
    "l = [\"Apple\",\"Ball\",\"Cat\",\"Dog\",\"Fish\",\"Apple\"]\n",
    "for i in l:\n",
    "    print(i)"
   ]
  },
  {
   "cell_type": "code",
   "execution_count": 13,
   "id": "6c682b1c",
   "metadata": {},
   "outputs": [
    {
     "name": "stdout",
     "output_type": "stream",
     "text": [
      "Enter search = Apple\n",
      "Yes\n",
      "2\n"
     ]
    }
   ],
   "source": [
    "l = [\"Apple\",\"Ball\",\"Cat\",\"Dog\",\"Fish\",\"Apple\"]\n",
    "search = input(\"Enter search = \")\n",
    "if search in l:\n",
    "    print(\"Yes\")\n",
    "    print(l.count(search))\n",
    "else:\n",
    "    print(\"No\")"
   ]
  },
  {
   "cell_type": "code",
   "execution_count": 14,
   "id": "03fd08e8",
   "metadata": {},
   "outputs": [],
   "source": [
    "# append() extend() insert()"
   ]
  },
  {
   "cell_type": "code",
   "execution_count": 15,
   "id": "39fa4254",
   "metadata": {},
   "outputs": [
    {
     "name": "stdout",
     "output_type": "stream",
     "text": [
      "['Apple', 'Ball', 'Cat']\n"
     ]
    }
   ],
   "source": [
    "a = []\n",
    "a.append(\"Apple\")\n",
    "a.append(\"Ball\")\n",
    "a.append(\"Cat\")\n",
    "print(a)"
   ]
  },
  {
   "cell_type": "code",
   "execution_count": 17,
   "id": "6f579874",
   "metadata": {},
   "outputs": [],
   "source": [
    "l = []\n",
    "n = int(input(\"Enter n = \"))\n",
    "for i in range(n):\n",
    "    x = int(input(\"Enter x = \"))\n",
    "    l.append(x)\n",
    "\n",
    "print(l)"
   ]
  },
  {
   "cell_type": "code",
   "execution_count": 18,
   "id": "8944e321",
   "metadata": {},
   "outputs": [
    {
     "name": "stdout",
     "output_type": "stream",
     "text": [
      "Maximum value =  234\n",
      "Minimum value =  12\n",
      "Sum of list =  405\n",
      "[12, 13, 23, 123, 234]\n"
     ]
    }
   ],
   "source": [
    "l = [13, 23, 123, 234, 12]\n",
    "print(\"Maximum value = \",max(l))\n",
    "print(\"Minimum value = \",min(l))\n",
    "print(\"Sum of list = \",sum(l))\n",
    "l.sort()\n",
    "print(l)"
   ]
  },
  {
   "cell_type": "code",
   "execution_count": 19,
   "id": "917f45c6",
   "metadata": {},
   "outputs": [
    {
     "name": "stdout",
     "output_type": "stream",
     "text": [
      "['Apple', 'Ball', 'Cat', 'Zebra', 'ant']\n"
     ]
    }
   ],
   "source": [
    "a = [\"Ball\",\"Zebra\",\"Apple\",\"Cat\",\"ant\"]\n",
    "a.sort()\n",
    "print(a)"
   ]
  },
  {
   "cell_type": "code",
   "execution_count": 20,
   "id": "3c429b22",
   "metadata": {},
   "outputs": [
    {
     "data": {
      "text/plain": [
       "['Ball', 'zebra', 'Zebra', 'Apple', 'Cat', 'ant']"
      ]
     },
     "execution_count": 20,
     "metadata": {},
     "output_type": "execute_result"
    }
   ],
   "source": [
    "a = [\"Ball\",\"Zebra\",\"Apple\",\"Cat\",\"ant\"]\n",
    "a.insert(1,\"zebra\")\n",
    "a"
   ]
  },
  {
   "cell_type": "code",
   "execution_count": 21,
   "id": "3a2fbe4c",
   "metadata": {},
   "outputs": [
    {
     "name": "stdout",
     "output_type": "stream",
     "text": [
      "[1, 2, 3, 4, 5, 6, 7, 8, 9, 0]\n"
     ]
    }
   ],
   "source": [
    "a = [1,2,3,4,5]\n",
    "b = [6,7,8,9,0]\n",
    "a.extend(b)\n",
    "print(a)"
   ]
  },
  {
   "cell_type": "code",
   "execution_count": 22,
   "id": "cb2d5258",
   "metadata": {},
   "outputs": [],
   "source": [
    "#del remove() pop()"
   ]
  },
  {
   "cell_type": "code",
   "execution_count": 23,
   "id": "406ce2dc",
   "metadata": {},
   "outputs": [
    {
     "name": "stdout",
     "output_type": "stream",
     "text": [
      "['Zebra', 'Apple', 'Cat', 'ant']\n"
     ]
    }
   ],
   "source": [
    "a = [\"Ball\",\"Zebra\",\"Apple\",\"Cat\",\"ant\"]\n",
    "del a[0]\n",
    "print(a)"
   ]
  },
  {
   "cell_type": "code",
   "execution_count": 24,
   "id": "34d6e279",
   "metadata": {},
   "outputs": [
    {
     "name": "stdout",
     "output_type": "stream",
     "text": [
      "['Cat', 'ant']\n"
     ]
    }
   ],
   "source": [
    "a = [\"Ball\",\"Zebra\",\"Apple\",\"Cat\",\"ant\"]\n",
    "del a[0:3]\n",
    "print(a)"
   ]
  },
  {
   "cell_type": "code",
   "execution_count": 28,
   "id": "7a82df8a",
   "metadata": {},
   "outputs": [
    {
     "name": "stdout",
     "output_type": "stream",
     "text": [
      "['Zebra', 'Apple', 'Cat', 'ant']\n"
     ]
    }
   ],
   "source": [
    "#remove()\n",
    "a = [\"Ball\",\"Zebra\",\"Apple\",\"Ball\",\"Cat\",\"ant\",\"Ball\"]\n",
    "c = a.count(\"Ball\")\n",
    "for i in range(c):\n",
    "    a.remove(\"Ball\")\n",
    "print(a)"
   ]
  },
  {
   "cell_type": "code",
   "execution_count": 31,
   "id": "795d9352",
   "metadata": {},
   "outputs": [
    {
     "name": "stdout",
     "output_type": "stream",
     "text": [
      "0\n",
      "3\n",
      "6\n"
     ]
    }
   ],
   "source": [
    "a = [\"Ball\",\"Zebra\",\"Apple\",\"Ball\",\"Cat\",\"ant\",\"Ball\"]\n",
    "c = len(a)\n",
    "for i in range(c):\n",
    "    if \"Ball\" == a[i]:\n",
    "        print(i)"
   ]
  },
  {
   "cell_type": "code",
   "execution_count": 1,
   "id": "4be19a6f",
   "metadata": {},
   "outputs": [],
   "source": [
    "# list inside list"
   ]
  },
  {
   "cell_type": "code",
   "execution_count": 2,
   "id": "cb2fa0d4",
   "metadata": {},
   "outputs": [
    {
     "name": "stdout",
     "output_type": "stream",
     "text": [
      "[[1, 2, 3], [4, 5, 6], [7, 8, 9]]\n"
     ]
    }
   ],
   "source": [
    "a = [[1,2,3],\n",
    "    [4,5,6],\n",
    "    [7,8,9]]\n",
    "print(a)"
   ]
  },
  {
   "cell_type": "code",
   "execution_count": 3,
   "id": "06c98bbd",
   "metadata": {},
   "outputs": [
    {
     "name": "stdout",
     "output_type": "stream",
     "text": [
      "[['Ram', 45, 'Kathmand'], ['Shyam', 67, 'Bhaktapur'], ['Hari', 65, 'Lalitpur']]\n"
     ]
    }
   ],
   "source": [
    "a = [['Ram',45,'Kathmand'],\n",
    "    ['Shyam',67,'Bhaktapur'],\n",
    "    ['Hari',65,'Lalitpur']]\n",
    "print(a)"
   ]
  },
  {
   "cell_type": "code",
   "execution_count": 7,
   "id": "db7e2e0c",
   "metadata": {},
   "outputs": [
    {
     "name": "stdout",
     "output_type": "stream",
     "text": [
      "['Ram', 45, 'Kathmand']\n"
     ]
    }
   ],
   "source": [
    "print(a[0])"
   ]
  },
  {
   "cell_type": "code",
   "execution_count": 10,
   "id": "776c5b25",
   "metadata": {},
   "outputs": [
    {
     "name": "stdout",
     "output_type": "stream",
     "text": [
      "Kathmand\n"
     ]
    }
   ],
   "source": [
    "print(a[0][2])"
   ]
  },
  {
   "cell_type": "code",
   "execution_count": 11,
   "id": "7eacb538",
   "metadata": {},
   "outputs": [
    {
     "name": "stdout",
     "output_type": "stream",
     "text": [
      "Enter n = 2\n",
      "Enter name = Ram\n",
      "Enter add = 34\n",
      "Enter add = Kathmandu\n",
      "Enter name = Bharat\n",
      "Enter add = 34\n",
      "Enter add = Kathmandu\n",
      "[['Ram', 34, 'Kathmandu'], ['Bharat', 34, 'Kathmandu']]\n"
     ]
    }
   ],
   "source": [
    "l = []\n",
    "n = int(input(\"Enter n = \"))\n",
    "for i in range(n):\n",
    "    name = input(\"Enter name = \")\n",
    "    age = int(input(\"Enter add = \"))\n",
    "    add = input(\"Enter add = \")\n",
    "    x = [name,age,add]\n",
    "    l.append(x)\n",
    "    \n",
    "print(l)"
   ]
  },
  {
   "cell_type": "code",
   "execution_count": 12,
   "id": "7f72117f",
   "metadata": {},
   "outputs": [
    {
     "data": {
      "text/plain": [
       "[['Ram', 34, 'Kathmandu'],\n",
       " ['Bharat', 34, 'Kathmandu'],\n",
       " ['Hari', 23, 'Lalitpur']]"
      ]
     },
     "execution_count": 12,
     "metadata": {},
     "output_type": "execute_result"
    }
   ],
   "source": [
    "l = [['Ram', 34, 'Kathmandu'], ['Bharat', 34, 'Kathmandu']]\n",
    "l.append([\"Hari\",23,\"Lalitpur\"])\n",
    "l"
   ]
  },
  {
   "cell_type": "code",
   "execution_count": 14,
   "id": "708f06dc",
   "metadata": {},
   "outputs": [],
   "source": [
    "del l[2]"
   ]
  },
  {
   "cell_type": "code",
   "execution_count": 15,
   "id": "a0ebde21",
   "metadata": {},
   "outputs": [
    {
     "name": "stdout",
     "output_type": "stream",
     "text": [
      "[['Ram', 34, 'Kathmandu'], ['Bharat', 34, 'Kathmandu']]\n"
     ]
    }
   ],
   "source": [
    "print(l)"
   ]
  },
  {
   "cell_type": "code",
   "execution_count": 29,
   "id": "59fd2c1c",
   "metadata": {},
   "outputs": [
    {
     "name": "stdout",
     "output_type": "stream",
     "text": [
      "Enter name = Ram\n",
      "['Ram', 34, 'Kathmandu']\n",
      "['Ram', 23, 'Lalitpur']\n"
     ]
    }
   ],
   "source": [
    "# search\n",
    "l = [['Ram', 34, 'Kathmandu'],\n",
    "     ['Bharat', 34, 'Kathmandu'],\n",
    "     ['Ram', 23, 'Lalitpur']]\n",
    "\n",
    "name = input(\"Enter name = \")\n",
    "for i in l:\n",
    "    if name in i:\n",
    "        print(i)\n"
   ]
  },
  {
   "cell_type": "code",
   "execution_count": 32,
   "id": "c17022b6",
   "metadata": {},
   "outputs": [
    {
     "name": "stdout",
     "output_type": "stream",
     "text": [
      "Yes\n"
     ]
    }
   ],
   "source": [
    "a = [[\"Apple\"],[\"Ball\"],[\"Cat\"]]\n",
    "for i in a:\n",
    "    if \"Apple\" in i:\n",
    "        print(\"Yes\")"
   ]
  },
  {
   "cell_type": "code",
   "execution_count": 34,
   "id": "cc292e72",
   "metadata": {},
   "outputs": [
    {
     "data": {
      "text/plain": [
       "['Rama', 34, 'Kathmandu']"
      ]
     },
     "execution_count": 34,
     "metadata": {},
     "output_type": "execute_result"
    }
   ],
   "source": [
    "#Update\n",
    "l = ['Ram', 34, 'Kathmandu']\n",
    "l[0] = \"Rama\"\n",
    "l"
   ]
  },
  {
   "cell_type": "code",
   "execution_count": 42,
   "id": "363d4ac1",
   "metadata": {},
   "outputs": [
    {
     "data": {
      "text/plain": [
       "[['Rama', 34, 'Kathmandu'],\n",
       " ['Bharat', 34, 'Kathmandu'],\n",
       " ['Ram', 23, 'Lalitpur']]"
      ]
     },
     "execution_count": 42,
     "metadata": {},
     "output_type": "execute_result"
    }
   ],
   "source": [
    "l = [['Ram', 34, 'Kathmandu'],\n",
    "     ['Bharat', 34, 'Kathmandu'],\n",
    "     ['Ram', 23, 'Lalitpur']]\n",
    "l[0][0] = \"Rama\"\n",
    "l"
   ]
  },
  {
   "cell_type": "code",
   "execution_count": 43,
   "id": "0fe8aba8",
   "metadata": {},
   "outputs": [],
   "source": [
    "# WAP to create a matrix by taking input from user\n",
    "# r -> ?\n",
    "# c -> ?\n",
    "# x -> [[1,2,3],[4,5,6],[8,9,0]]\n",
    "#y  -> []"
   ]
  },
  {
   "cell_type": "code",
   "execution_count": 45,
   "id": "51de2341",
   "metadata": {},
   "outputs": [
    {
     "name": "stdout",
     "output_type": "stream",
     "text": [
      "Enter r = 3\n",
      "Enter c = 3\n",
      "Enter z = 34\n",
      "Enter z = 32\n",
      "Enter z = 56\n",
      "Enter z = 45\n",
      "Enter z = 67\n",
      "Enter z = 43\n",
      "Enter z = 78\n",
      "Enter z = 23\n",
      "Enter z = 78\n",
      "[[34, 32, 56], [45, 67, 43], [78, 23, 78]]\n"
     ]
    }
   ],
   "source": [
    "x = []\n",
    "r = int(input(\"Enter r = \"))\n",
    "c = int(input(\"Enter c = \"))\n",
    "for i in range(r):\n",
    "    y = []\n",
    "    for j in range(c):\n",
    "        z = int(input(\"Enter z = \"))\n",
    "        y.append(z)\n",
    "    x.append(y)\n",
    "print(x)"
   ]
  },
  {
   "cell_type": "markdown",
   "id": "1e23af2d",
   "metadata": {},
   "source": [
    "### "
   ]
  }
 ],
 "metadata": {
  "kernelspec": {
   "display_name": "Python 3 (ipykernel)",
   "language": "python",
   "name": "python3"
  },
  "language_info": {
   "codemirror_mode": {
    "name": "ipython",
    "version": 3
   },
   "file_extension": ".py",
   "mimetype": "text/x-python",
   "name": "python",
   "nbconvert_exporter": "python",
   "pygments_lexer": "ipython3",
   "version": "3.9.12"
  }
 },
 "nbformat": 4,
 "nbformat_minor": 5
}
