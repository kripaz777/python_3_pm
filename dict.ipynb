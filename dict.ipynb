{
 "cells": [
  {
   "cell_type": "code",
   "execution_count": 1,
   "id": "7f97fe2e",
   "metadata": {},
   "outputs": [],
   "source": [
    "# dictionary\n",
    "# -Indexing\n",
    "# -Ordered\n",
    "# -Multiple and duplicate data\n",
    "# -Mutable"
   ]
  },
  {
   "cell_type": "code",
   "execution_count": 2,
   "id": "e67b2f08",
   "metadata": {},
   "outputs": [],
   "source": [
    "# d = {<key>:<value>, <key>:<value>,...}"
   ]
  },
  {
   "cell_type": "code",
   "execution_count": 7,
   "id": "37952a16",
   "metadata": {},
   "outputs": [
    {
     "name": "stdout",
     "output_type": "stream",
     "text": [
      "{'a': 'apple', 'b': 'Ball', 'c': 'Cat'}\n",
      "<class 'dict'>\n"
     ]
    }
   ],
   "source": [
    "d = {'a':'apple','b':'Ball','c':'Cat'}\n",
    "print(d)\n",
    "print(type(d))"
   ]
  },
  {
   "cell_type": "code",
   "execution_count": 6,
   "id": "55ffcf0a",
   "metadata": {},
   "outputs": [
    {
     "name": "stdout",
     "output_type": "stream",
     "text": [
      "Cat\n"
     ]
    }
   ],
   "source": [
    "print(d['c'])"
   ]
  },
  {
   "cell_type": "code",
   "execution_count": 9,
   "id": "42ab2d21",
   "metadata": {},
   "outputs": [
    {
     "data": {
      "text/plain": [
       "{'a': 'apple', 'b': 'Ball', 'c': 'Cat', 'C': 'cat'}"
      ]
     },
     "execution_count": 9,
     "metadata": {},
     "output_type": "execute_result"
    }
   ],
   "source": [
    "d = {'a':'apple','b':'Ball','c':'Cat','C':'cat'}\n",
    "d"
   ]
  },
  {
   "cell_type": "code",
   "execution_count": 11,
   "id": "fa8b21be",
   "metadata": {},
   "outputs": [],
   "source": [
    "a = {'a':'apple','b':'Ball','c':'Cat'}\n",
    "b = {1:1,2:4,3:9}\n",
    "c = a+b\n",
    "print(c)"
   ]
  },
  {
   "cell_type": "code",
   "execution_count": 12,
   "id": "c2ac6978",
   "metadata": {},
   "outputs": [
    {
     "name": "stdout",
     "output_type": "stream",
     "text": [
      "{'a': 'apple', 'b': 'Ball', 'c': 'Cat', 1: 1, 2: 4, 3: 9}\n"
     ]
    }
   ],
   "source": [
    "a = {'a':'apple','b':'Ball','c':'Cat'}\n",
    "b = {1:1,2:4,3:9}\n",
    "a.update(b)\n",
    "print(a)"
   ]
  },
  {
   "cell_type": "code",
   "execution_count": 14,
   "id": "2d281f32",
   "metadata": {},
   "outputs": [
    {
     "name": "stdout",
     "output_type": "stream",
     "text": [
      "a b c "
     ]
    }
   ],
   "source": [
    "a = {'a':'apple','b':'Ball','c':'Cat'}\n",
    "for i in a:\n",
    "    print(i, end = \" \")"
   ]
  },
  {
   "cell_type": "code",
   "execution_count": 15,
   "id": "e17afd4f",
   "metadata": {},
   "outputs": [
    {
     "name": "stdout",
     "output_type": "stream",
     "text": [
      "apple Ball Cat "
     ]
    }
   ],
   "source": [
    "a = {'a':'apple','b':'Ball','c':'Cat'}\n",
    "for i in a.values():\n",
    "    print(i, end = \" \")"
   ]
  },
  {
   "cell_type": "code",
   "execution_count": 16,
   "id": "89ba59d9",
   "metadata": {},
   "outputs": [
    {
     "name": "stdout",
     "output_type": "stream",
     "text": [
      "('a', 'apple') ('b', 'Ball') ('c', 'Cat') "
     ]
    }
   ],
   "source": [
    "a = {'a':'apple','b':'Ball','c':'Cat'}\n",
    "for i in a.items():\n",
    "    print(i, end = \" \")"
   ]
  },
  {
   "cell_type": "code",
   "execution_count": 17,
   "id": "8515c8cf",
   "metadata": {},
   "outputs": [
    {
     "data": {
      "text/plain": [
       "{'a': 'Apple', 'b': 'Ball', 'c': 'Cat'}"
      ]
     },
     "execution_count": 17,
     "metadata": {},
     "output_type": "execute_result"
    }
   ],
   "source": [
    "# create\n",
    "#d = dict()\n",
    "d = {}\n",
    "d['a'] = \"Apple\"\n",
    "d['b'] = \"Ball\"\n",
    "d['c'] = \"Cat\"\n",
    "d"
   ]
  },
  {
   "cell_type": "code",
   "execution_count": 20,
   "id": "8f64d0e9",
   "metadata": {},
   "outputs": [
    {
     "data": {
      "text/plain": [
       "{'a': 'Ant', 'b': 'Ball', 'c': 'Cat'}"
      ]
     },
     "execution_count": 20,
     "metadata": {},
     "output_type": "execute_result"
    }
   ],
   "source": [
    "#update\n",
    "d = {'a': 'Apple', 'b': 'Ball', 'c': 'Cat'}\n",
    "d['a'] = 'Ant'\n",
    "d"
   ]
  },
  {
   "cell_type": "code",
   "execution_count": 21,
   "id": "7caa662a",
   "metadata": {},
   "outputs": [
    {
     "name": "stdout",
     "output_type": "stream",
     "text": [
      "{'b': 'Ball', 'c': 'Cat'}\n"
     ]
    }
   ],
   "source": [
    "#del pop()\n",
    "d = {'a': 'Apple', 'b': 'Ball', 'c': 'Cat'}\n",
    "del d['a']\n",
    "print(d)"
   ]
  },
  {
   "cell_type": "code",
   "execution_count": 23,
   "id": "96808b67",
   "metadata": {},
   "outputs": [
    {
     "name": "stdout",
     "output_type": "stream",
     "text": [
      "Apple\n",
      "{'b': 'Ball', 'c': 'Cat'}\n"
     ]
    }
   ],
   "source": [
    "d = {'a': 'Apple', 'b': 'Ball', 'c': 'Cat'}\n",
    "b = d.pop('a')\n",
    "print(b)\n",
    "print(d)"
   ]
  },
  {
   "cell_type": "code",
   "execution_count": 24,
   "id": "da8ec14f",
   "metadata": {},
   "outputs": [
    {
     "data": {
      "text/plain": [
       "{'Ram': 98478654, 'Shyam': 9808778654, 'Hari': 9867665654}"
      ]
     },
     "execution_count": 24,
     "metadata": {},
     "output_type": "execute_result"
    }
   ],
   "source": [
    "info = {'Ram':98478654,'Shyam':9808778654,'Hari':9867665654}\n",
    "info"
   ]
  },
  {
   "cell_type": "code",
   "execution_count": 25,
   "id": "f20f16a5",
   "metadata": {},
   "outputs": [
    {
     "data": {
      "text/plain": [
       "{'Ram': [945667654, 9808778765],\n",
       " 'Shyam': [9845667876, 9808778765],\n",
       " 'Hari': [9845667654, 9808778765]}"
      ]
     },
     "execution_count": 25,
     "metadata": {},
     "output_type": "execute_result"
    }
   ],
   "source": [
    "# list inside dict\n",
    "info = {'Ram':[945667654,9808778765],\n",
    "        'Shyam':[9845667876,9808778765],\n",
    "        'Hari':[9845667654,9808778765]}\n",
    "info"
   ]
  },
  {
   "cell_type": "code",
   "execution_count": 27,
   "id": "8f9eaefb",
   "metadata": {},
   "outputs": [
    {
     "name": "stdout",
     "output_type": "stream",
     "text": [
      "[945667654, 9808778765]\n",
      "945667654\n"
     ]
    }
   ],
   "source": [
    "print(info['Ram'])\n",
    "print(info['Ram'][0])"
   ]
  },
  {
   "cell_type": "code",
   "execution_count": 28,
   "id": "408f4441",
   "metadata": {},
   "outputs": [
    {
     "data": {
      "text/plain": [
       "{'Ram': [9845665781, 9808778765],\n",
       " 'Shyam': [9845667876, 9808778765],\n",
       " 'Hari': [9845667654, 9808778765]}"
      ]
     },
     "execution_count": 28,
     "metadata": {},
     "output_type": "execute_result"
    }
   ],
   "source": [
    "info['Ram'][0] = 9845665781\n",
    "info"
   ]
  },
  {
   "cell_type": "code",
   "execution_count": 30,
   "id": "dcd252ff",
   "metadata": {},
   "outputs": [
    {
     "name": "stdout",
     "output_type": "stream",
     "text": [
      "Enter n = 2\n",
      "Enter name = Ram\n",
      "Enter ntc no = 9856556543\n",
      "Enter ncell no = 9808667654\n",
      "Enter name = Shyam\n",
      "Enter ntc no = 9845676543\n",
      "Enter ncell no = 9808667654\n",
      "{'Ram': ['9856556543', '9808667654'], 'Shyam': ['9845676543', '9808667654']}\n"
     ]
    }
   ],
   "source": [
    "d = {}\n",
    "n = int(input(\"Enter n = \"))\n",
    "for i in range(n):\n",
    "    name = input(\"Enter name = \")\n",
    "    ntc = input(\"Enter ntc no = \")\n",
    "    ncell = input(\"Enter ncell no = \")\n",
    "    d[name] = [ntc,ncell]\n",
    "    \n",
    "print(d)"
   ]
  },
  {
   "cell_type": "code",
   "execution_count": 31,
   "id": "a3843a3f",
   "metadata": {},
   "outputs": [
    {
     "name": "stdout",
     "output_type": "stream",
     "text": [
      "Ram 9848778765 9808667654\n"
     ]
    }
   ],
   "source": [
    "d = {'name':[\"Ram\",\"Shyam\"],\n",
    "    'ntc':[9848778765,9848667654],\n",
    "    'ncell':[9808667654,9808778765]}\n",
    "\n",
    "print(d['name'][0],d['ntc'][0],d['ncell'][0])"
   ]
  },
  {
   "cell_type": "code",
   "execution_count": 1,
   "id": "52c803a9",
   "metadata": {},
   "outputs": [
    {
     "name": "stdout",
     "output_type": "stream",
     "text": [
      "Enter n = 2\n",
      "Enter name = Ram\n",
      "Enter ntc no = 9845667654\n",
      "Enter ncell no = 9808778765\n",
      "Enter name = Shyam\n",
      "Enter ntc no = 9867665432\n",
      "Enter ncell no = 9808778765\n",
      "{'name': ['Ram', 'Shyam'], 'ntc': ['9845667654', '9867665432'], 'ncell': ['9808778765', '9808778765']}\n"
     ]
    }
   ],
   "source": [
    "d = {'name':[],\n",
    "    'ntc':[],\n",
    "    'ncell':[]}\n",
    "\n",
    "n = int(input(\"Enter n = \"))\n",
    "for i in range(n):\n",
    "    name = input(\"Enter name = \")\n",
    "    ntc = input(\"Enter ntc no = \")\n",
    "    ncell = input(\"Enter ncell no = \")\n",
    "    d['name'].append(name)\n",
    "    d['ntc'].append(ntc)\n",
    "    d['ncell'].append(ncell)\n",
    "    \n",
    "print(d)"
   ]
  },
  {
   "cell_type": "code",
   "execution_count": 2,
   "id": "81f175f1",
   "metadata": {},
   "outputs": [
    {
     "name": "stdout",
     "output_type": "stream",
     "text": [
      "[{'name': 'Ram', 'age': 34, 'add': 'Kathmandu'}, {'name': 'Shyam', 'age': 66, 'add': 'Bhaktapur'}, {'name': 'Hari', 'age': 33, 'add': 'Lalitpur'}, {'name': 'Sita', 'age': 24, 'add': 'Kathmandu'}]\n"
     ]
    }
   ],
   "source": [
    "# dict inside list\n",
    "d = [{'name':'Ram','age':34,'add':\"Kathmandu\"},\n",
    "    {'name':'Shyam','age':66,'add':\"Bhaktapur\"},\n",
    "    {'name':'Hari','age':33,'add':\"Lalitpur\"},\n",
    "    {'name':'Sita','age':24,'add':\"Kathmandu\"}]\n",
    "print(d)"
   ]
  },
  {
   "cell_type": "code",
   "execution_count": 4,
   "id": "dd4607e3",
   "metadata": {},
   "outputs": [
    {
     "name": "stdout",
     "output_type": "stream",
     "text": [
      "{'name': 'Ram', 'age': 34, 'add': 'Kathmandu'}\n",
      "Ram\n"
     ]
    }
   ],
   "source": [
    "print(d[0])\n",
    "print(d[0]['name'])"
   ]
  },
  {
   "cell_type": "code",
   "execution_count": 9,
   "id": "6b591217",
   "metadata": {},
   "outputs": [],
   "source": [
    "l = []\n",
    "n = int(input(\"Enter n = \"))\n",
    "for i in range(n):\n",
    "    name = input(\"Enter name = \")\n",
    "    ntc = input(\"Enter ntc no = \")\n",
    "    ncell = input(\"Enter ncell no = \")\n",
    "    d = {'name':name,'ntc':ntc,'ncell':ncell}\n",
    "    l.append(d)\n",
    "print(l)"
   ]
  },
  {
   "cell_type": "code",
   "execution_count": 6,
   "id": "040352e7",
   "metadata": {},
   "outputs": [
    {
     "data": {
      "text/plain": [
       "[{'name': 'Ram', 'ntc': '9808778765', 'ncell': '9840998765'},\n",
       " {'name': 'Shyam', 'ntc': '9845778765', 'ncell': '98087776543'}]"
      ]
     },
     "execution_count": 6,
     "metadata": {},
     "output_type": "execute_result"
    }
   ],
   "source": [
    "l"
   ]
  },
  {
   "cell_type": "code",
   "execution_count": 8,
   "id": "ad30f24b",
   "metadata": {},
   "outputs": [
    {
     "data": {
      "text/plain": [
       "{'name': 'Shyam', 'ntc': '9845778765', 'ncell': '98087776543'}"
      ]
     },
     "execution_count": 8,
     "metadata": {},
     "output_type": "execute_result"
    }
   ],
   "source": [
    "l[1]"
   ]
  },
  {
   "cell_type": "code",
   "execution_count": 10,
   "id": "ab998843",
   "metadata": {},
   "outputs": [],
   "source": [
    "del l[1]\n"
   ]
  },
  {
   "cell_type": "code",
   "execution_count": 11,
   "id": "ce878bac",
   "metadata": {},
   "outputs": [
    {
     "data": {
      "text/plain": [
       "[{'name': 'Ram', 'ntc': '9808778765', 'ncell': '9840998765'}]"
      ]
     },
     "execution_count": 11,
     "metadata": {},
     "output_type": "execute_result"
    }
   ],
   "source": [
    "l"
   ]
  },
  {
   "cell_type": "code",
   "execution_count": 13,
   "id": "ffce342d",
   "metadata": {},
   "outputs": [
    {
     "data": {
      "text/plain": [
       "{1: {'name': 'Ram', 'age': 34, 'add': 'Kathmandu'},\n",
       " 2: {'name': 'Shyam', 'age': 24, 'add': 'Bhaktapur'},\n",
       " 3: {'name': 'Hari', 'age': 14, 'add': 'Lalitpur'}}"
      ]
     },
     "execution_count": 13,
     "metadata": {},
     "output_type": "execute_result"
    }
   ],
   "source": [
    "#dict inside dict\n",
    "info = {1:{'name':'Ram','age':34,\"add\":\"Kathmandu\"},\n",
    "       2:{'name':'Shyam','age':24,\"add\":\"Bhaktapur\"},\n",
    "       3:{'name':'Hari','age':14,\"add\":\"Lalitpur\"}}\n",
    "info"
   ]
  },
  {
   "cell_type": "code",
   "execution_count": 15,
   "id": "de781624",
   "metadata": {},
   "outputs": [
    {
     "name": "stdout",
     "output_type": "stream",
     "text": [
      "{'name': 'Ram', 'age': 34, 'add': 'Kathmandu'}\n",
      "Ram\n"
     ]
    }
   ],
   "source": [
    "print(info[1])\n",
    "print(info[1]['name'])"
   ]
  },
  {
   "cell_type": "code",
   "execution_count": 16,
   "id": "6b92df5b",
   "metadata": {},
   "outputs": [
    {
     "name": "stdout",
     "output_type": "stream",
     "text": [
      "Enter n = 2\n",
      "Enter name = Ram\n",
      "Enter age = 78\n",
      "Enter add = Kathmandu\n",
      "Enter name = Shyam\n",
      "Enter age = 89\n",
      "Enter add = Bhaltapur\n",
      "{1: {'name': 'Ram', 'age': '78', 'add': 'Kathmandu'}, 2: {'name': 'Shyam', 'age': '89', 'add': 'Bhaltapur'}}\n"
     ]
    }
   ],
   "source": [
    "info = {}\n",
    "n = int(input(\"Enter n = \"))\n",
    "for i in range(1,n+1):\n",
    "    name = input(\"Enter name = \")\n",
    "    age = input(\"Enter age = \")\n",
    "    add = input(\"Enter add = \")\n",
    "    d = {'name':name,'age':age,'add':add}\n",
    "    info[i] = d \n",
    "print(info)"
   ]
  },
  {
   "cell_type": "code",
   "execution_count": 18,
   "id": "78d9b513",
   "metadata": {},
   "outputs": [],
   "source": [
    "info[3] = {'name': 'Akash', 'age': '18', 'add': 'Kathmandu'}"
   ]
  },
  {
   "cell_type": "code",
   "execution_count": 19,
   "id": "d991b3d4",
   "metadata": {},
   "outputs": [
    {
     "data": {
      "text/plain": [
       "{1: {'name': 'Ram', 'age': '78', 'add': 'Kathmandu'},\n",
       " 2: {'name': 'Shyam', 'age': '89', 'add': 'Bhaltapur'},\n",
       " 3: {'name': 'Akash', 'age': '18', 'add': 'Kathmandu'}}"
      ]
     },
     "execution_count": 19,
     "metadata": {},
     "output_type": "execute_result"
    }
   ],
   "source": [
    "info"
   ]
  },
  {
   "cell_type": "code",
   "execution_count": 20,
   "id": "8bee19bc",
   "metadata": {},
   "outputs": [
    {
     "data": {
      "text/plain": [
       "{1: {'name': 'Ram', 'age': '78', 'add': 'Kathmandu'},\n",
       " 2: {'name': 'Shyam', 'age': '89', 'add': 'Bhaltapur'},\n",
       " 3: {'name': 'Akash',\n",
       "  'age': '18',\n",
       "  'add': {'per': 'Dhading', 'temp': 'Kathmandu'}}}"
      ]
     },
     "execution_count": 20,
     "metadata": {},
     "output_type": "execute_result"
    }
   ],
   "source": [
    "info[3]['add'] = {'per':'Dhading','temp':'Kathmandu'}\n",
    "info"
   ]
  },
  {
   "cell_type": "code",
   "execution_count": null,
   "id": "46429b06",
   "metadata": {},
   "outputs": [],
   "source": []
  }
 ],
 "metadata": {
  "kernelspec": {
   "display_name": "Python 3 (ipykernel)",
   "language": "python",
   "name": "python3"
  },
  "language_info": {
   "codemirror_mode": {
    "name": "ipython",
    "version": 3
   },
   "file_extension": ".py",
   "mimetype": "text/x-python",
   "name": "python",
   "nbconvert_exporter": "python",
   "pygments_lexer": "ipython3",
   "version": "3.9.12"
  }
 },
 "nbformat": 4,
 "nbformat_minor": 5
}
