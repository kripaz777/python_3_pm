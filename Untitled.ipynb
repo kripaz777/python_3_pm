{
 "cells": [
  {
   "cell_type": "code",
   "execution_count": 1,
   "id": "66943e28",
   "metadata": {},
   "outputs": [],
   "source": [
    "# # file\n",
    "# file = open(\"<file_name>\",\"<mode>\")\n",
    "# file.close()\n",
    "\n",
    "# with open(\"<file_name>\",\"<mode>\") as file:\n",
    "#     <operation>\n",
    "\n",
    "# modes\n",
    "# create -> 'x'\n",
    "# read  -> 'r'\n",
    "# write -> 'w'\n",
    "# append -> 'a'"
   ]
  },
  {
   "cell_type": "code",
   "execution_count": 8,
   "id": "1004169e",
   "metadata": {},
   "outputs": [
    {
     "name": "stdout",
     "output_type": "stream",
     "text": [
      "The file is already there.\n"
     ]
    }
   ],
   "source": [
    "try:\n",
    "    file = open('data.txt','x')\n",
    "    file.close()\n",
    "except:\n",
    "    print(\"The file is already there.\")"
   ]
  },
  {
   "cell_type": "code",
   "execution_count": 3,
   "id": "24c20ef9",
   "metadata": {},
   "outputs": [
    {
     "data": {
      "text/plain": [
       "'C:\\\\Users\\\\Aayush\\\\Python-class-3pm'"
      ]
     },
     "execution_count": 3,
     "metadata": {},
     "output_type": "execute_result"
    }
   ],
   "source": [
    "pwd"
   ]
  },
  {
   "cell_type": "code",
   "execution_count": 12,
   "id": "eb285376",
   "metadata": {},
   "outputs": [
    {
     "name": "stdout",
     "output_type": "stream",
     "text": [
      "1. Hello World\n",
      "2. Hello World\n",
      "3. Hello World\n",
      "4. Hello World\n",
      "5. Hello World\n"
     ]
    }
   ],
   "source": [
    "file = open('data.txt','r')\n",
    "data = file.read()\n",
    "print(data)\n",
    "file.close()"
   ]
  },
  {
   "cell_type": "code",
   "execution_count": 13,
   "id": "4380e8cb",
   "metadata": {},
   "outputs": [
    {
     "name": "stdout",
     "output_type": "stream",
     "text": [
      "<class 'str'>\n"
     ]
    }
   ],
   "source": [
    "print(type(data))"
   ]
  },
  {
   "cell_type": "code",
   "execution_count": 15,
   "id": "a3fcb842",
   "metadata": {},
   "outputs": [
    {
     "data": {
      "text/plain": [
       "['1. Hello World',\n",
       " '2. Hello World',\n",
       " '3. Hello World',\n",
       " '4. Hello World',\n",
       " '5. Hello World']"
      ]
     },
     "execution_count": 15,
     "metadata": {},
     "output_type": "execute_result"
    }
   ],
   "source": [
    "d = data.split('\\n')\n",
    "d"
   ]
  },
  {
   "cell_type": "code",
   "execution_count": 10,
   "id": "fd49af22",
   "metadata": {},
   "outputs": [
    {
     "name": "stdout",
     "output_type": "stream",
     "text": [
      "1. Hello World\n"
     ]
    }
   ],
   "source": [
    "print(data[0])"
   ]
  },
  {
   "cell_type": "code",
   "execution_count": 16,
   "id": "4b971dd0",
   "metadata": {},
   "outputs": [],
   "source": [
    "# write mode\n",
    "file = open('data1.txt','w')\n",
    "file.write('Hello World')\n",
    "file.close()"
   ]
  },
  {
   "cell_type": "code",
   "execution_count": 19,
   "id": "efcbf992",
   "metadata": {},
   "outputs": [
    {
     "name": "stdout",
     "output_type": "stream",
     "text": [
      "Enter n = 2\n",
      "Enter product name = Apple\n",
      "Enter price = 300\n",
      "Enter quantity = 3\n",
      "Enter product name = Banana\n",
      "Enter price = 100\n",
      "Enter quantity = 3\n"
     ]
    }
   ],
   "source": [
    "bill = str()\n",
    "n = int(input(\"Enter n = \"))\n",
    "for i in range(n):\n",
    "    name = input(\"Enter product name = \")\n",
    "    price = float(input(\"Enter price = \"))\n",
    "    qty = float(input(\"Enter quantity = \"))\n",
    "    total = price * qty\n",
    "    bill = bill + f\"{name}\\t{price}\\t{qty}\\t{total}\\n\"\n",
    "    \n",
    "file = open('bill.txt','w')\n",
    "file.write('Name\\tPrice\\tQty\\tTotal\\n')\n",
    "file.write(bill)\n",
    "file.close()"
   ]
  },
  {
   "cell_type": "code",
   "execution_count": 20,
   "id": "cb78a5d8",
   "metadata": {},
   "outputs": [
    {
     "name": "stdout",
     "output_type": "stream",
     "text": [
      "Enter n = 2\n",
      "Enter product name = Apple\n",
      "Enter price = 400\n",
      "Enter quantity = 3\n",
      "Enter product name = Banana\n",
      "Enter price = 100\n",
      "Enter quantity = 3\n"
     ]
    }
   ],
   "source": [
    "bill = str()\n",
    "n = int(input(\"Enter n = \"))\n",
    "for i in range(n):\n",
    "    name = input(\"Enter product name = \")\n",
    "    price = float(input(\"Enter price = \"))\n",
    "    qty = float(input(\"Enter quantity = \"))\n",
    "    total = price * qty\n",
    "    bill = bill + f\"{name},{price},{qty},{total}\\n\"\n",
    "    \n",
    "file = open('bill.csv','w')\n",
    "file.write('Name,Price,Qty,Total\\n')\n",
    "file.write(bill)\n",
    "file.close()"
   ]
  },
  {
   "cell_type": "code",
   "execution_count": 21,
   "id": "ebc68cb3",
   "metadata": {},
   "outputs": [
    {
     "data": {
      "text/plain": [
       "'C:\\\\Users\\\\Aayush\\\\Python-class-3pm'"
      ]
     },
     "execution_count": 21,
     "metadata": {},
     "output_type": "execute_result"
    }
   ],
   "source": [
    "pwd"
   ]
  },
  {
   "cell_type": "code",
   "execution_count": 30,
   "id": "21bbe98d",
   "metadata": {},
   "outputs": [],
   "source": [
    "#using append mode\n",
    "file = open('bill1.csv','a')\n",
    "file.write('Name,Price,Qty,Total\\n')"
   ]
  },
  {
   "cell_type": "code",
   "execution_count": 31,
   "id": "0118afe5",
   "metadata": {},
   "outputs": [],
   "source": [
    "bill = str()\n",
    "n = int(input(\"Enter n = \"))\n",
    "for i in range(n):\n",
    "    name = input(\"Enter product name = \")\n",
    "    price = float(input(\"Enter price = \"))\n",
    "    qty = float(input(\"Enter quantity = \"))\n",
    "    total = price * qty\n",
    "    bill = bill + f\"{name},{price},{qty},{total}\\n\"\n",
    "    \n",
    "\n",
    "file.write(bill)"
   ]
  },
  {
   "cell_type": "code",
   "execution_count": 29,
   "id": "04ce857f",
   "metadata": {},
   "outputs": [],
   "source": [
    "file.close()"
   ]
  },
  {
   "cell_type": "code",
   "execution_count": 32,
   "id": "713a69ef",
   "metadata": {},
   "outputs": [
    {
     "data": {
      "text/html": [
       "<div>\n",
       "<style scoped>\n",
       "    .dataframe tbody tr th:only-of-type {\n",
       "        vertical-align: middle;\n",
       "    }\n",
       "\n",
       "    .dataframe tbody tr th {\n",
       "        vertical-align: top;\n",
       "    }\n",
       "\n",
       "    .dataframe thead th {\n",
       "        text-align: right;\n",
       "    }\n",
       "</style>\n",
       "<table border=\"1\" class=\"dataframe\">\n",
       "  <thead>\n",
       "    <tr style=\"text-align: right;\">\n",
       "      <th></th>\n",
       "      <th>Name</th>\n",
       "      <th>Price</th>\n",
       "      <th>Qty</th>\n",
       "      <th>Total</th>\n",
       "    </tr>\n",
       "  </thead>\n",
       "  <tbody>\n",
       "    <tr>\n",
       "      <th>0</th>\n",
       "      <td>Apple</td>\n",
       "      <td>300.0</td>\n",
       "      <td>3.0</td>\n",
       "      <td>900.0</td>\n",
       "    </tr>\n",
       "    <tr>\n",
       "      <th>1</th>\n",
       "      <td>Banana</td>\n",
       "      <td>300.0</td>\n",
       "      <td>1.0</td>\n",
       "      <td>300.0</td>\n",
       "    </tr>\n",
       "    <tr>\n",
       "      <th>2</th>\n",
       "      <td>Coke</td>\n",
       "      <td>100.0</td>\n",
       "      <td>3.0</td>\n",
       "      <td>300.0</td>\n",
       "    </tr>\n",
       "    <tr>\n",
       "      <th>3</th>\n",
       "      <td>Fanta</td>\n",
       "      <td>400.0</td>\n",
       "      <td>3.0</td>\n",
       "      <td>1200.0</td>\n",
       "    </tr>\n",
       "  </tbody>\n",
       "</table>\n",
       "</div>"
      ],
      "text/plain": [
       "     Name  Price  Qty   Total\n",
       "0   Apple  300.0  3.0   900.0\n",
       "1  Banana  300.0  1.0   300.0\n",
       "2    Coke  100.0  3.0   300.0\n",
       "3   Fanta  400.0  3.0  1200.0"
      ]
     },
     "execution_count": 32,
     "metadata": {},
     "output_type": "execute_result"
    }
   ],
   "source": [
    "import pandas as pd\n",
    "df = pd.read_csv('bill1.csv')\n",
    "df"
   ]
  },
  {
   "cell_type": "code",
   "execution_count": null,
   "id": "b0144aa0",
   "metadata": {},
   "outputs": [],
   "source": []
  }
 ],
 "metadata": {
  "kernelspec": {
   "display_name": "Python 3 (ipykernel)",
   "language": "python",
   "name": "python3"
  },
  "language_info": {
   "codemirror_mode": {
    "name": "ipython",
    "version": 3
   },
   "file_extension": ".py",
   "mimetype": "text/x-python",
   "name": "python",
   "nbconvert_exporter": "python",
   "pygments_lexer": "ipython3",
   "version": "3.9.12"
  }
 },
 "nbformat": 4,
 "nbformat_minor": 5
}
