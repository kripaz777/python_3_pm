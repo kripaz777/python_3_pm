{
 "cells": [
  {
   "cell_type": "code",
   "execution_count": 2,
   "id": "41979b7e",
   "metadata": {},
   "outputs": [
    {
     "name": "stdout",
     "output_type": "stream",
     "text": [
      "The file is already there!\n"
     ]
    }
   ],
   "source": [
    "try:\n",
    "    file = open('data.csv','x')\n",
    "    file.close()\n",
    "except:\n",
    "    print(\"The file is already there!\")"
   ]
  },
  {
   "cell_type": "code",
   "execution_count": 3,
   "id": "0c74ff9f",
   "metadata": {},
   "outputs": [
    {
     "data": {
      "text/html": [
       "<div>\n",
       "<style scoped>\n",
       "    .dataframe tbody tr th:only-of-type {\n",
       "        vertical-align: middle;\n",
       "    }\n",
       "\n",
       "    .dataframe tbody tr th {\n",
       "        vertical-align: top;\n",
       "    }\n",
       "\n",
       "    .dataframe thead th {\n",
       "        text-align: right;\n",
       "    }\n",
       "</style>\n",
       "<table border=\"1\" class=\"dataframe\">\n",
       "  <thead>\n",
       "    <tr style=\"text-align: right;\">\n",
       "      <th></th>\n",
       "      <th>sn</th>\n",
       "      <th>name</th>\n",
       "      <th>age</th>\n",
       "      <th>add</th>\n",
       "      <th>phone</th>\n",
       "    </tr>\n",
       "  </thead>\n",
       "  <tbody>\n",
       "    <tr>\n",
       "      <th>0</th>\n",
       "      <td>1</td>\n",
       "      <td>Ram</td>\n",
       "      <td>34</td>\n",
       "      <td>Kathmandu</td>\n",
       "      <td>9808778765</td>\n",
       "    </tr>\n",
       "    <tr>\n",
       "      <th>1</th>\n",
       "      <td>2</td>\n",
       "      <td>Shyam</td>\n",
       "      <td>56</td>\n",
       "      <td>Bhaktapur</td>\n",
       "      <td>9808667654</td>\n",
       "    </tr>\n",
       "    <tr>\n",
       "      <th>2</th>\n",
       "      <td>3</td>\n",
       "      <td>Hari</td>\n",
       "      <td>34</td>\n",
       "      <td>Lalitpur</td>\n",
       "      <td>9808445432</td>\n",
       "    </tr>\n",
       "    <tr>\n",
       "      <th>3</th>\n",
       "      <td>4</td>\n",
       "      <td>Sabin</td>\n",
       "      <td>23</td>\n",
       "      <td>Jhapa</td>\n",
       "      <td>980778765</td>\n",
       "    </tr>\n",
       "    <tr>\n",
       "      <th>4</th>\n",
       "      <td>5</td>\n",
       "      <td>Rakesh</td>\n",
       "      <td>43</td>\n",
       "      <td>Damak</td>\n",
       "      <td>9845667654</td>\n",
       "    </tr>\n",
       "    <tr>\n",
       "      <th>5</th>\n",
       "      <td>6</td>\n",
       "      <td>Nabin</td>\n",
       "      <td>33</td>\n",
       "      <td>Chitwan</td>\n",
       "      <td>9808667654</td>\n",
       "    </tr>\n",
       "  </tbody>\n",
       "</table>\n",
       "</div>"
      ],
      "text/plain": [
       "   sn    name  age        add       phone\n",
       "0   1     Ram   34  Kathmandu  9808778765\n",
       "1   2   Shyam   56  Bhaktapur  9808667654\n",
       "2   3    Hari   34   Lalitpur  9808445432\n",
       "3   4   Sabin   23      Jhapa   980778765\n",
       "4   5  Rakesh   43      Damak  9845667654\n",
       "5   6   Nabin   33    Chitwan  9808667654"
      ]
     },
     "execution_count": 3,
     "metadata": {},
     "output_type": "execute_result"
    }
   ],
   "source": [
    "import pandas as pd\n",
    "df = pd.read_csv('data.csv')\n",
    "df"
   ]
  },
  {
   "cell_type": "code",
   "execution_count": 4,
   "id": "a79ad7d7",
   "metadata": {},
   "outputs": [
    {
     "data": {
      "text/html": [
       "<div>\n",
       "<style scoped>\n",
       "    .dataframe tbody tr th:only-of-type {\n",
       "        vertical-align: middle;\n",
       "    }\n",
       "\n",
       "    .dataframe tbody tr th {\n",
       "        vertical-align: top;\n",
       "    }\n",
       "\n",
       "    .dataframe thead th {\n",
       "        text-align: right;\n",
       "    }\n",
       "</style>\n",
       "<table border=\"1\" class=\"dataframe\">\n",
       "  <thead>\n",
       "    <tr style=\"text-align: right;\">\n",
       "      <th></th>\n",
       "      <th>sn</th>\n",
       "      <th>name</th>\n",
       "      <th>age</th>\n",
       "      <th>add</th>\n",
       "      <th>phone</th>\n",
       "    </tr>\n",
       "  </thead>\n",
       "  <tbody>\n",
       "    <tr>\n",
       "      <th>0</th>\n",
       "      <td>1</td>\n",
       "      <td>Ram</td>\n",
       "      <td>34</td>\n",
       "      <td>Kathmandu</td>\n",
       "      <td>9808778765</td>\n",
       "    </tr>\n",
       "    <tr>\n",
       "      <th>1</th>\n",
       "      <td>2</td>\n",
       "      <td>Shyam</td>\n",
       "      <td>56</td>\n",
       "      <td>Bhaktapur</td>\n",
       "      <td>9808667654</td>\n",
       "    </tr>\n",
       "    <tr>\n",
       "      <th>2</th>\n",
       "      <td>3</td>\n",
       "      <td>Hari</td>\n",
       "      <td>34</td>\n",
       "      <td>Lalitpur</td>\n",
       "      <td>9808445432</td>\n",
       "    </tr>\n",
       "    <tr>\n",
       "      <th>3</th>\n",
       "      <td>4</td>\n",
       "      <td>Sabin</td>\n",
       "      <td>23</td>\n",
       "      <td>Jhapa</td>\n",
       "      <td>980778765</td>\n",
       "    </tr>\n",
       "  </tbody>\n",
       "</table>\n",
       "</div>"
      ],
      "text/plain": [
       "   sn   name  age        add       phone\n",
       "0   1    Ram   34  Kathmandu  9808778765\n",
       "1   2  Shyam   56  Bhaktapur  9808667654\n",
       "2   3   Hari   34   Lalitpur  9808445432\n",
       "3   4  Sabin   23      Jhapa   980778765"
      ]
     },
     "execution_count": 4,
     "metadata": {},
     "output_type": "execute_result"
    }
   ],
   "source": [
    "import pandas as pd\n",
    "df = pd.read_csv('data.csv', nrows = 4)\n",
    "df"
   ]
  },
  {
   "cell_type": "code",
   "execution_count": 5,
   "id": "8a6b64fd",
   "metadata": {},
   "outputs": [
    {
     "data": {
      "text/html": [
       "<div>\n",
       "<style scoped>\n",
       "    .dataframe tbody tr th:only-of-type {\n",
       "        vertical-align: middle;\n",
       "    }\n",
       "\n",
       "    .dataframe tbody tr th {\n",
       "        vertical-align: top;\n",
       "    }\n",
       "\n",
       "    .dataframe thead th {\n",
       "        text-align: right;\n",
       "    }\n",
       "</style>\n",
       "<table border=\"1\" class=\"dataframe\">\n",
       "  <thead>\n",
       "    <tr style=\"text-align: right;\">\n",
       "      <th></th>\n",
       "      <th>sn</th>\n",
       "      <th>name</th>\n",
       "      <th>age</th>\n",
       "      <th>add</th>\n",
       "      <th>phone</th>\n",
       "    </tr>\n",
       "  </thead>\n",
       "  <tbody>\n",
       "    <tr>\n",
       "      <th>0</th>\n",
       "      <td>1</td>\n",
       "      <td>Ram</td>\n",
       "      <td>34</td>\n",
       "      <td>Kathmandu</td>\n",
       "      <td>9808778765</td>\n",
       "    </tr>\n",
       "    <tr>\n",
       "      <th>1</th>\n",
       "      <td>2</td>\n",
       "      <td>Shyam</td>\n",
       "      <td>56</td>\n",
       "      <td>Bhaktapur</td>\n",
       "      <td>9808667654</td>\n",
       "    </tr>\n",
       "    <tr>\n",
       "      <th>2</th>\n",
       "      <td>3</td>\n",
       "      <td>Hari</td>\n",
       "      <td>34</td>\n",
       "      <td>Lalitpur</td>\n",
       "      <td>9808445432</td>\n",
       "    </tr>\n",
       "    <tr>\n",
       "      <th>3</th>\n",
       "      <td>4</td>\n",
       "      <td>Sabin</td>\n",
       "      <td>23</td>\n",
       "      <td>Jhapa</td>\n",
       "      <td>980778765</td>\n",
       "    </tr>\n",
       "  </tbody>\n",
       "</table>\n",
       "</div>"
      ],
      "text/plain": [
       "   sn   name  age        add       phone\n",
       "0   1    Ram   34  Kathmandu  9808778765\n",
       "1   2  Shyam   56  Bhaktapur  9808667654\n",
       "2   3   Hari   34   Lalitpur  9808445432\n",
       "3   4  Sabin   23      Jhapa   980778765"
      ]
     },
     "execution_count": 5,
     "metadata": {},
     "output_type": "execute_result"
    }
   ],
   "source": [
    "import pandas as pd\n",
    "df = pd.read_csv('data.csv')\n",
    "df.head(4)\n",
    "#df.tail()"
   ]
  },
  {
   "cell_type": "code",
   "execution_count": 7,
   "id": "eac10c62",
   "metadata": {},
   "outputs": [
    {
     "data": {
      "text/html": [
       "<div>\n",
       "<style scoped>\n",
       "    .dataframe tbody tr th:only-of-type {\n",
       "        vertical-align: middle;\n",
       "    }\n",
       "\n",
       "    .dataframe tbody tr th {\n",
       "        vertical-align: top;\n",
       "    }\n",
       "\n",
       "    .dataframe thead th {\n",
       "        text-align: right;\n",
       "    }\n",
       "</style>\n",
       "<table border=\"1\" class=\"dataframe\">\n",
       "  <thead>\n",
       "    <tr style=\"text-align: right;\">\n",
       "      <th></th>\n",
       "      <th>name</th>\n",
       "      <th>age</th>\n",
       "      <th>add</th>\n",
       "      <th>phone</th>\n",
       "    </tr>\n",
       "    <tr>\n",
       "      <th>sn</th>\n",
       "      <th></th>\n",
       "      <th></th>\n",
       "      <th></th>\n",
       "      <th></th>\n",
       "    </tr>\n",
       "  </thead>\n",
       "  <tbody>\n",
       "    <tr>\n",
       "      <th>1</th>\n",
       "      <td>Ram</td>\n",
       "      <td>34</td>\n",
       "      <td>Kathmandu</td>\n",
       "      <td>9808778765</td>\n",
       "    </tr>\n",
       "    <tr>\n",
       "      <th>2</th>\n",
       "      <td>Shyam</td>\n",
       "      <td>56</td>\n",
       "      <td>Bhaktapur</td>\n",
       "      <td>9808667654</td>\n",
       "    </tr>\n",
       "    <tr>\n",
       "      <th>3</th>\n",
       "      <td>Hari</td>\n",
       "      <td>34</td>\n",
       "      <td>Lalitpur</td>\n",
       "      <td>9808445432</td>\n",
       "    </tr>\n",
       "    <tr>\n",
       "      <th>4</th>\n",
       "      <td>Sabin</td>\n",
       "      <td>23</td>\n",
       "      <td>Jhapa</td>\n",
       "      <td>980778765</td>\n",
       "    </tr>\n",
       "  </tbody>\n",
       "</table>\n",
       "</div>"
      ],
      "text/plain": [
       "     name  age        add       phone\n",
       "sn                                   \n",
       "1     Ram   34  Kathmandu  9808778765\n",
       "2   Shyam   56  Bhaktapur  9808667654\n",
       "3    Hari   34   Lalitpur  9808445432\n",
       "4   Sabin   23      Jhapa   980778765"
      ]
     },
     "execution_count": 7,
     "metadata": {},
     "output_type": "execute_result"
    }
   ],
   "source": [
    "import pandas as pd\n",
    "df = pd.read_csv('data.csv',index_col = 'sn')\n",
    "df.head(4)\n",
    "#df.tail()"
   ]
  },
  {
   "cell_type": "code",
   "execution_count": 8,
   "id": "6f4d9f96",
   "metadata": {},
   "outputs": [
    {
     "data": {
      "text/html": [
       "<div>\n",
       "<style scoped>\n",
       "    .dataframe tbody tr th:only-of-type {\n",
       "        vertical-align: middle;\n",
       "    }\n",
       "\n",
       "    .dataframe tbody tr th {\n",
       "        vertical-align: top;\n",
       "    }\n",
       "\n",
       "    .dataframe thead th {\n",
       "        text-align: right;\n",
       "    }\n",
       "</style>\n",
       "<table border=\"1\" class=\"dataframe\">\n",
       "  <thead>\n",
       "    <tr style=\"text-align: right;\">\n",
       "      <th></th>\n",
       "      <th>sn</th>\n",
       "      <th>name</th>\n",
       "      <th>phone</th>\n",
       "    </tr>\n",
       "  </thead>\n",
       "  <tbody>\n",
       "    <tr>\n",
       "      <th>0</th>\n",
       "      <td>1</td>\n",
       "      <td>Ram</td>\n",
       "      <td>9808778765</td>\n",
       "    </tr>\n",
       "    <tr>\n",
       "      <th>1</th>\n",
       "      <td>2</td>\n",
       "      <td>Shyam</td>\n",
       "      <td>9808667654</td>\n",
       "    </tr>\n",
       "    <tr>\n",
       "      <th>2</th>\n",
       "      <td>3</td>\n",
       "      <td>Hari</td>\n",
       "      <td>9808445432</td>\n",
       "    </tr>\n",
       "    <tr>\n",
       "      <th>3</th>\n",
       "      <td>4</td>\n",
       "      <td>Sabin</td>\n",
       "      <td>980778765</td>\n",
       "    </tr>\n",
       "    <tr>\n",
       "      <th>4</th>\n",
       "      <td>5</td>\n",
       "      <td>Rakesh</td>\n",
       "      <td>9845667654</td>\n",
       "    </tr>\n",
       "    <tr>\n",
       "      <th>5</th>\n",
       "      <td>6</td>\n",
       "      <td>Nabin</td>\n",
       "      <td>9808667654</td>\n",
       "    </tr>\n",
       "  </tbody>\n",
       "</table>\n",
       "</div>"
      ],
      "text/plain": [
       "   sn    name       phone\n",
       "0   1     Ram  9808778765\n",
       "1   2   Shyam  9808667654\n",
       "2   3    Hari  9808445432\n",
       "3   4   Sabin   980778765\n",
       "4   5  Rakesh  9845667654\n",
       "5   6   Nabin  9808667654"
      ]
     },
     "execution_count": 8,
     "metadata": {},
     "output_type": "execute_result"
    }
   ],
   "source": [
    "df = pd.read_csv('data.csv',usecols = ['sn','name','phone'])\n",
    "df"
   ]
  },
  {
   "cell_type": "code",
   "execution_count": 12,
   "id": "81ae3a93",
   "metadata": {
    "scrolled": true
   },
   "outputs": [
    {
     "data": {
      "text/html": [
       "<div>\n",
       "<style scoped>\n",
       "    .dataframe tbody tr th:only-of-type {\n",
       "        vertical-align: middle;\n",
       "    }\n",
       "\n",
       "    .dataframe tbody tr th {\n",
       "        vertical-align: top;\n",
       "    }\n",
       "\n",
       "    .dataframe thead th {\n",
       "        text-align: right;\n",
       "    }\n",
       "</style>\n",
       "<table border=\"1\" class=\"dataframe\">\n",
       "  <thead>\n",
       "    <tr style=\"text-align: right;\">\n",
       "      <th></th>\n",
       "      <th>sn</th>\n",
       "      <th>name</th>\n",
       "      <th>age</th>\n",
       "      <th>add</th>\n",
       "      <th>phone</th>\n",
       "    </tr>\n",
       "  </thead>\n",
       "  <tbody>\n",
       "    <tr>\n",
       "      <th>2</th>\n",
       "      <td>3</td>\n",
       "      <td>Hari</td>\n",
       "      <td>34</td>\n",
       "      <td>Lalitpur</td>\n",
       "      <td>9808445432</td>\n",
       "    </tr>\n",
       "    <tr>\n",
       "      <th>3</th>\n",
       "      <td>4</td>\n",
       "      <td>Sabin</td>\n",
       "      <td>23</td>\n",
       "      <td>Jhapa</td>\n",
       "      <td>980778765</td>\n",
       "    </tr>\n",
       "    <tr>\n",
       "      <th>4</th>\n",
       "      <td>5</td>\n",
       "      <td>Rakesh</td>\n",
       "      <td>43</td>\n",
       "      <td>Damak</td>\n",
       "      <td>9845667654</td>\n",
       "    </tr>\n",
       "  </tbody>\n",
       "</table>\n",
       "</div>"
      ],
      "text/plain": [
       "   sn    name  age       add       phone\n",
       "2   3    Hari   34  Lalitpur  9808445432\n",
       "3   4   Sabin   23     Jhapa   980778765\n",
       "4   5  Rakesh   43     Damak  9845667654"
      ]
     },
     "execution_count": 12,
     "metadata": {},
     "output_type": "execute_result"
    }
   ],
   "source": [
    "#iloc\n",
    "import pandas as pd\n",
    "df = pd.read_csv('data.csv')\n",
    "df.iloc[2:5]\n",
    "#df"
   ]
  },
  {
   "cell_type": "code",
   "execution_count": 13,
   "id": "2e140b2e",
   "metadata": {},
   "outputs": [
    {
     "data": {
      "text/html": [
       "<div>\n",
       "<style scoped>\n",
       "    .dataframe tbody tr th:only-of-type {\n",
       "        vertical-align: middle;\n",
       "    }\n",
       "\n",
       "    .dataframe tbody tr th {\n",
       "        vertical-align: top;\n",
       "    }\n",
       "\n",
       "    .dataframe thead th {\n",
       "        text-align: right;\n",
       "    }\n",
       "</style>\n",
       "<table border=\"1\" class=\"dataframe\">\n",
       "  <thead>\n",
       "    <tr style=\"text-align: right;\">\n",
       "      <th></th>\n",
       "      <th>sn</th>\n",
       "      <th>name</th>\n",
       "      <th>age</th>\n",
       "      <th>add</th>\n",
       "    </tr>\n",
       "  </thead>\n",
       "  <tbody>\n",
       "    <tr>\n",
       "      <th>2</th>\n",
       "      <td>3</td>\n",
       "      <td>Hari</td>\n",
       "      <td>34</td>\n",
       "      <td>Lalitpur</td>\n",
       "    </tr>\n",
       "    <tr>\n",
       "      <th>3</th>\n",
       "      <td>4</td>\n",
       "      <td>Sabin</td>\n",
       "      <td>23</td>\n",
       "      <td>Jhapa</td>\n",
       "    </tr>\n",
       "    <tr>\n",
       "      <th>4</th>\n",
       "      <td>5</td>\n",
       "      <td>Rakesh</td>\n",
       "      <td>43</td>\n",
       "      <td>Damak</td>\n",
       "    </tr>\n",
       "  </tbody>\n",
       "</table>\n",
       "</div>"
      ],
      "text/plain": [
       "   sn    name  age       add\n",
       "2   3    Hari   34  Lalitpur\n",
       "3   4   Sabin   23     Jhapa\n",
       "4   5  Rakesh   43     Damak"
      ]
     },
     "execution_count": 13,
     "metadata": {},
     "output_type": "execute_result"
    }
   ],
   "source": [
    "import pandas as pd\n",
    "df = pd.read_csv('data.csv')\n",
    "df.iloc[2:5,0:4]"
   ]
  },
  {
   "cell_type": "code",
   "execution_count": 15,
   "id": "93df2b5e",
   "metadata": {},
   "outputs": [
    {
     "data": {
      "text/html": [
       "<div>\n",
       "<style scoped>\n",
       "    .dataframe tbody tr th:only-of-type {\n",
       "        vertical-align: middle;\n",
       "    }\n",
       "\n",
       "    .dataframe tbody tr th {\n",
       "        vertical-align: top;\n",
       "    }\n",
       "\n",
       "    .dataframe thead th {\n",
       "        text-align: right;\n",
       "    }\n",
       "</style>\n",
       "<table border=\"1\" class=\"dataframe\">\n",
       "  <thead>\n",
       "    <tr style=\"text-align: right;\">\n",
       "      <th></th>\n",
       "      <th>name</th>\n",
       "      <th>age</th>\n",
       "      <th>add</th>\n",
       "      <th>phone</th>\n",
       "    </tr>\n",
       "    <tr>\n",
       "      <th>sn</th>\n",
       "      <th></th>\n",
       "      <th></th>\n",
       "      <th></th>\n",
       "      <th></th>\n",
       "    </tr>\n",
       "  </thead>\n",
       "  <tbody>\n",
       "    <tr>\n",
       "      <th>2</th>\n",
       "      <td>Shyam</td>\n",
       "      <td>56</td>\n",
       "      <td>Bhaktapur</td>\n",
       "      <td>9808667654</td>\n",
       "    </tr>\n",
       "    <tr>\n",
       "      <th>3</th>\n",
       "      <td>Hari</td>\n",
       "      <td>34</td>\n",
       "      <td>Lalitpur</td>\n",
       "      <td>9808445432</td>\n",
       "    </tr>\n",
       "    <tr>\n",
       "      <th>4</th>\n",
       "      <td>Sabin</td>\n",
       "      <td>23</td>\n",
       "      <td>Jhapa</td>\n",
       "      <td>980778765</td>\n",
       "    </tr>\n",
       "    <tr>\n",
       "      <th>5</th>\n",
       "      <td>Rakesh</td>\n",
       "      <td>43</td>\n",
       "      <td>Damak</td>\n",
       "      <td>9845667654</td>\n",
       "    </tr>\n",
       "  </tbody>\n",
       "</table>\n",
       "</div>"
      ],
      "text/plain": [
       "      name  age        add       phone\n",
       "sn                                    \n",
       "2    Shyam   56  Bhaktapur  9808667654\n",
       "3     Hari   34   Lalitpur  9808445432\n",
       "4    Sabin   23      Jhapa   980778765\n",
       "5   Rakesh   43      Damak  9845667654"
      ]
     },
     "execution_count": 15,
     "metadata": {},
     "output_type": "execute_result"
    }
   ],
   "source": [
    "#loc\n",
    "df = pd.read_csv('data.csv',index_col = 'sn')\n",
    "df.loc[2:5]"
   ]
  },
  {
   "cell_type": "code",
   "execution_count": 17,
   "id": "52951f9b",
   "metadata": {},
   "outputs": [
    {
     "data": {
      "text/html": [
       "<div>\n",
       "<style scoped>\n",
       "    .dataframe tbody tr th:only-of-type {\n",
       "        vertical-align: middle;\n",
       "    }\n",
       "\n",
       "    .dataframe tbody tr th {\n",
       "        vertical-align: top;\n",
       "    }\n",
       "\n",
       "    .dataframe thead th {\n",
       "        text-align: right;\n",
       "    }\n",
       "</style>\n",
       "<table border=\"1\" class=\"dataframe\">\n",
       "  <thead>\n",
       "    <tr style=\"text-align: right;\">\n",
       "      <th></th>\n",
       "      <th>sn</th>\n",
       "      <th>age</th>\n",
       "      <th>add</th>\n",
       "      <th>phone</th>\n",
       "    </tr>\n",
       "    <tr>\n",
       "      <th>name</th>\n",
       "      <th></th>\n",
       "      <th></th>\n",
       "      <th></th>\n",
       "      <th></th>\n",
       "    </tr>\n",
       "  </thead>\n",
       "  <tbody>\n",
       "    <tr>\n",
       "      <th>Hari</th>\n",
       "      <td>3</td>\n",
       "      <td>34</td>\n",
       "      <td>Lalitpur</td>\n",
       "      <td>9808445432</td>\n",
       "    </tr>\n",
       "    <tr>\n",
       "      <th>Sabin</th>\n",
       "      <td>4</td>\n",
       "      <td>23</td>\n",
       "      <td>Jhapa</td>\n",
       "      <td>980778765</td>\n",
       "    </tr>\n",
       "    <tr>\n",
       "      <th>Rakesh</th>\n",
       "      <td>5</td>\n",
       "      <td>43</td>\n",
       "      <td>Damak</td>\n",
       "      <td>9845667654</td>\n",
       "    </tr>\n",
       "  </tbody>\n",
       "</table>\n",
       "</div>"
      ],
      "text/plain": [
       "        sn  age       add       phone\n",
       "name                                 \n",
       "Hari     3   34  Lalitpur  9808445432\n",
       "Sabin    4   23     Jhapa   980778765\n",
       "Rakesh   5   43     Damak  9845667654"
      ]
     },
     "execution_count": 17,
     "metadata": {},
     "output_type": "execute_result"
    }
   ],
   "source": [
    "#loc\n",
    "df = pd.read_csv('data.csv',index_col = 'name')\n",
    "df.loc['Hari':'Rakesh']"
   ]
  },
  {
   "cell_type": "code",
   "execution_count": 19,
   "id": "34cea1fc",
   "metadata": {},
   "outputs": [
    {
     "data": {
      "text/plain": [
       "0       Ram\n",
       "1     Shyam\n",
       "2      Hari\n",
       "3     Sabin\n",
       "4    Rakesh\n",
       "5     Nabin\n",
       "Name: name, dtype: object"
      ]
     },
     "execution_count": 19,
     "metadata": {},
     "output_type": "execute_result"
    }
   ],
   "source": [
    "#filter\n",
    "df = pd.read_csv('data.csv')\n",
    "df['name']"
   ]
  },
  {
   "cell_type": "code",
   "execution_count": 20,
   "id": "d970d8ac",
   "metadata": {},
   "outputs": [
    {
     "data": {
      "text/plain": [
       "0     True\n",
       "1    False\n",
       "2    False\n",
       "3    False\n",
       "4    False\n",
       "5    False\n",
       "Name: name, dtype: bool"
      ]
     },
     "execution_count": 20,
     "metadata": {},
     "output_type": "execute_result"
    }
   ],
   "source": [
    "df['name'] == 'Ram'"
   ]
  },
  {
   "cell_type": "code",
   "execution_count": 21,
   "id": "98a88555",
   "metadata": {},
   "outputs": [
    {
     "data": {
      "text/html": [
       "<div>\n",
       "<style scoped>\n",
       "    .dataframe tbody tr th:only-of-type {\n",
       "        vertical-align: middle;\n",
       "    }\n",
       "\n",
       "    .dataframe tbody tr th {\n",
       "        vertical-align: top;\n",
       "    }\n",
       "\n",
       "    .dataframe thead th {\n",
       "        text-align: right;\n",
       "    }\n",
       "</style>\n",
       "<table border=\"1\" class=\"dataframe\">\n",
       "  <thead>\n",
       "    <tr style=\"text-align: right;\">\n",
       "      <th></th>\n",
       "      <th>sn</th>\n",
       "      <th>name</th>\n",
       "      <th>age</th>\n",
       "      <th>add</th>\n",
       "      <th>phone</th>\n",
       "    </tr>\n",
       "  </thead>\n",
       "  <tbody>\n",
       "    <tr>\n",
       "      <th>0</th>\n",
       "      <td>1</td>\n",
       "      <td>Ram</td>\n",
       "      <td>34</td>\n",
       "      <td>Kathmandu</td>\n",
       "      <td>9808778765</td>\n",
       "    </tr>\n",
       "  </tbody>\n",
       "</table>\n",
       "</div>"
      ],
      "text/plain": [
       "   sn name  age        add       phone\n",
       "0   1  Ram   34  Kathmandu  9808778765"
      ]
     },
     "execution_count": 21,
     "metadata": {},
     "output_type": "execute_result"
    }
   ],
   "source": [
    "df[df['name'] == 'Ram']"
   ]
  },
  {
   "cell_type": "code",
   "execution_count": 22,
   "id": "a61621ea",
   "metadata": {},
   "outputs": [
    {
     "data": {
      "text/html": [
       "<div>\n",
       "<style scoped>\n",
       "    .dataframe tbody tr th:only-of-type {\n",
       "        vertical-align: middle;\n",
       "    }\n",
       "\n",
       "    .dataframe tbody tr th {\n",
       "        vertical-align: top;\n",
       "    }\n",
       "\n",
       "    .dataframe thead th {\n",
       "        text-align: right;\n",
       "    }\n",
       "</style>\n",
       "<table border=\"1\" class=\"dataframe\">\n",
       "  <thead>\n",
       "    <tr style=\"text-align: right;\">\n",
       "      <th></th>\n",
       "      <th>sn</th>\n",
       "      <th>name</th>\n",
       "      <th>age</th>\n",
       "      <th>add</th>\n",
       "      <th>phone</th>\n",
       "    </tr>\n",
       "  </thead>\n",
       "  <tbody>\n",
       "    <tr>\n",
       "      <th>0</th>\n",
       "      <td>1</td>\n",
       "      <td>Ram</td>\n",
       "      <td>34</td>\n",
       "      <td>Kathmandu</td>\n",
       "      <td>9808778765</td>\n",
       "    </tr>\n",
       "  </tbody>\n",
       "</table>\n",
       "</div>"
      ],
      "text/plain": [
       "   sn name  age        add       phone\n",
       "0   1  Ram   34  Kathmandu  9808778765"
      ]
     },
     "execution_count": 22,
     "metadata": {},
     "output_type": "execute_result"
    }
   ],
   "source": [
    "df[df['add'] == 'Kathmandu']"
   ]
  },
  {
   "cell_type": "code",
   "execution_count": 23,
   "id": "84ccc3ca",
   "metadata": {},
   "outputs": [
    {
     "data": {
      "text/html": [
       "<div>\n",
       "<style scoped>\n",
       "    .dataframe tbody tr th:only-of-type {\n",
       "        vertical-align: middle;\n",
       "    }\n",
       "\n",
       "    .dataframe tbody tr th {\n",
       "        vertical-align: top;\n",
       "    }\n",
       "\n",
       "    .dataframe thead th {\n",
       "        text-align: right;\n",
       "    }\n",
       "</style>\n",
       "<table border=\"1\" class=\"dataframe\">\n",
       "  <thead>\n",
       "    <tr style=\"text-align: right;\">\n",
       "      <th></th>\n",
       "      <th>sn</th>\n",
       "      <th>name</th>\n",
       "      <th>age</th>\n",
       "      <th>add</th>\n",
       "      <th>phone</th>\n",
       "    </tr>\n",
       "  </thead>\n",
       "  <tbody>\n",
       "    <tr>\n",
       "      <th>1</th>\n",
       "      <td>2</td>\n",
       "      <td>Shyam</td>\n",
       "      <td>56</td>\n",
       "      <td>Bhaktapur</td>\n",
       "      <td>9808667654</td>\n",
       "    </tr>\n",
       "    <tr>\n",
       "      <th>4</th>\n",
       "      <td>5</td>\n",
       "      <td>Rakesh</td>\n",
       "      <td>43</td>\n",
       "      <td>Damak</td>\n",
       "      <td>9845667654</td>\n",
       "    </tr>\n",
       "  </tbody>\n",
       "</table>\n",
       "</div>"
      ],
      "text/plain": [
       "   sn    name  age        add       phone\n",
       "1   2   Shyam   56  Bhaktapur  9808667654\n",
       "4   5  Rakesh   43      Damak  9845667654"
      ]
     },
     "execution_count": 23,
     "metadata": {},
     "output_type": "execute_result"
    }
   ],
   "source": [
    "df[df['age'] >= 40]"
   ]
  },
  {
   "cell_type": "code",
   "execution_count": 25,
   "id": "3be4698e",
   "metadata": {},
   "outputs": [
    {
     "data": {
      "text/html": [
       "<div>\n",
       "<style scoped>\n",
       "    .dataframe tbody tr th:only-of-type {\n",
       "        vertical-align: middle;\n",
       "    }\n",
       "\n",
       "    .dataframe tbody tr th {\n",
       "        vertical-align: top;\n",
       "    }\n",
       "\n",
       "    .dataframe thead th {\n",
       "        text-align: right;\n",
       "    }\n",
       "</style>\n",
       "<table border=\"1\" class=\"dataframe\">\n",
       "  <thead>\n",
       "    <tr style=\"text-align: right;\">\n",
       "      <th></th>\n",
       "      <th>sn</th>\n",
       "      <th>name</th>\n",
       "      <th>age</th>\n",
       "      <th>add</th>\n",
       "      <th>phone</th>\n",
       "    </tr>\n",
       "  </thead>\n",
       "  <tbody>\n",
       "    <tr>\n",
       "      <th>0</th>\n",
       "      <td>1</td>\n",
       "      <td>Ram</td>\n",
       "      <td>34</td>\n",
       "      <td>Kathmandu</td>\n",
       "      <td>9808778765</td>\n",
       "    </tr>\n",
       "  </tbody>\n",
       "</table>\n",
       "</div>"
      ],
      "text/plain": [
       "   sn name  age        add       phone\n",
       "0   1  Ram   34  Kathmandu  9808778765"
      ]
     },
     "execution_count": 25,
     "metadata": {},
     "output_type": "execute_result"
    }
   ],
   "source": [
    "df[(df['age'] >= 30) & (df['add'] == 'Kathmandu')]"
   ]
  },
  {
   "cell_type": "code",
   "execution_count": 2,
   "id": "472a4351",
   "metadata": {},
   "outputs": [
    {
     "data": {
      "text/plain": [
       "[['sn', 'name', 'age', 'add'],\n",
       " [1, 'Ram', 34, 'Kathmandu'],\n",
       " [2, 'Shyam', 67, 'Bhaktapur'],\n",
       " [3, 'Hari', 67, 'Lalitpur']]"
      ]
     },
     "execution_count": 2,
     "metadata": {},
     "output_type": "execute_result"
    }
   ],
   "source": [
    "data = [['sn','name','age','add'],\n",
    "       [1,'Ram',34,'Kathmandu'],\n",
    "       [2,'Shyam',67,'Bhaktapur'],\n",
    "        [3,'Hari',67,'Lalitpur']]\n",
    "data"
   ]
  },
  {
   "cell_type": "code",
   "execution_count": 3,
   "id": "4699c0b8",
   "metadata": {},
   "outputs": [],
   "source": [
    "import csv\n",
    "file = open('data2.csv','w')\n",
    "x = csv.writer(file)\n",
    "x.writerows(data)\n",
    "file.close()"
   ]
  },
  {
   "cell_type": "code",
   "execution_count": 4,
   "id": "f6d96d95",
   "metadata": {},
   "outputs": [
    {
     "data": {
      "text/html": [
       "<div>\n",
       "<style scoped>\n",
       "    .dataframe tbody tr th:only-of-type {\n",
       "        vertical-align: middle;\n",
       "    }\n",
       "\n",
       "    .dataframe tbody tr th {\n",
       "        vertical-align: top;\n",
       "    }\n",
       "\n",
       "    .dataframe thead th {\n",
       "        text-align: right;\n",
       "    }\n",
       "</style>\n",
       "<table border=\"1\" class=\"dataframe\">\n",
       "  <thead>\n",
       "    <tr style=\"text-align: right;\">\n",
       "      <th></th>\n",
       "      <th>sn</th>\n",
       "      <th>name</th>\n",
       "      <th>age</th>\n",
       "      <th>add</th>\n",
       "    </tr>\n",
       "  </thead>\n",
       "  <tbody>\n",
       "    <tr>\n",
       "      <th>0</th>\n",
       "      <td>1</td>\n",
       "      <td>Ram</td>\n",
       "      <td>34</td>\n",
       "      <td>Kathmandu</td>\n",
       "    </tr>\n",
       "    <tr>\n",
       "      <th>1</th>\n",
       "      <td>2</td>\n",
       "      <td>Shyam</td>\n",
       "      <td>67</td>\n",
       "      <td>Bhaktapur</td>\n",
       "    </tr>\n",
       "    <tr>\n",
       "      <th>2</th>\n",
       "      <td>3</td>\n",
       "      <td>Hari</td>\n",
       "      <td>67</td>\n",
       "      <td>Lalitpur</td>\n",
       "    </tr>\n",
       "  </tbody>\n",
       "</table>\n",
       "</div>"
      ],
      "text/plain": [
       "   sn   name  age        add\n",
       "0   1    Ram   34  Kathmandu\n",
       "1   2  Shyam   67  Bhaktapur\n",
       "2   3   Hari   67   Lalitpur"
      ]
     },
     "execution_count": 4,
     "metadata": {},
     "output_type": "execute_result"
    }
   ],
   "source": [
    "import pandas as pd\n",
    "df = pd.read_csv('data2.csv')\n",
    "df"
   ]
  },
  {
   "cell_type": "code",
   "execution_count": 5,
   "id": "5e416034",
   "metadata": {},
   "outputs": [
    {
     "data": {
      "text/plain": [
       "{'name': ['Ram', 'Shyam', 'Hari'],\n",
       " 'age': [45, 67, 43],\n",
       " 'add': ['Kathmandu', 'Bhaktapur', 'lalitpur']}"
      ]
     },
     "execution_count": 5,
     "metadata": {},
     "output_type": "execute_result"
    }
   ],
   "source": [
    "data = {'name':['Ram','Shyam','Hari'],\n",
    "       'age':[45,67,43],\n",
    "       'add':[\"Kathmandu\",\"Bhaktapur\",\"lalitpur\"]}\n",
    "data"
   ]
  },
  {
   "cell_type": "code",
   "execution_count": 7,
   "id": "4c441304",
   "metadata": {},
   "outputs": [
    {
     "data": {
      "text/html": [
       "<div>\n",
       "<style scoped>\n",
       "    .dataframe tbody tr th:only-of-type {\n",
       "        vertical-align: middle;\n",
       "    }\n",
       "\n",
       "    .dataframe tbody tr th {\n",
       "        vertical-align: top;\n",
       "    }\n",
       "\n",
       "    .dataframe thead th {\n",
       "        text-align: right;\n",
       "    }\n",
       "</style>\n",
       "<table border=\"1\" class=\"dataframe\">\n",
       "  <thead>\n",
       "    <tr style=\"text-align: right;\">\n",
       "      <th></th>\n",
       "      <th>name</th>\n",
       "      <th>age</th>\n",
       "      <th>add</th>\n",
       "    </tr>\n",
       "  </thead>\n",
       "  <tbody>\n",
       "    <tr>\n",
       "      <th>0</th>\n",
       "      <td>Ram</td>\n",
       "      <td>45</td>\n",
       "      <td>Kathmandu</td>\n",
       "    </tr>\n",
       "    <tr>\n",
       "      <th>1</th>\n",
       "      <td>Shyam</td>\n",
       "      <td>67</td>\n",
       "      <td>Bhaktapur</td>\n",
       "    </tr>\n",
       "    <tr>\n",
       "      <th>2</th>\n",
       "      <td>Hari</td>\n",
       "      <td>43</td>\n",
       "      <td>lalitpur</td>\n",
       "    </tr>\n",
       "  </tbody>\n",
       "</table>\n",
       "</div>"
      ],
      "text/plain": [
       "    name  age        add\n",
       "0    Ram   45  Kathmandu\n",
       "1  Shyam   67  Bhaktapur\n",
       "2   Hari   43   lalitpur"
      ]
     },
     "execution_count": 7,
     "metadata": {},
     "output_type": "execute_result"
    }
   ],
   "source": [
    "df = pd.DataFrame(data)\n",
    "df"
   ]
  },
  {
   "cell_type": "code",
   "execution_count": 8,
   "id": "1ceec9ec",
   "metadata": {},
   "outputs": [],
   "source": [
    "df.to_csv('data3.csv')"
   ]
  },
  {
   "cell_type": "code",
   "execution_count": 19,
   "id": "28c24224",
   "metadata": {},
   "outputs": [],
   "source": [
    "import csv\n",
    "csv_columns = ['Name', 'Age', 'Address']\n",
    "dict = [\n",
    "    {'Name':'Aayush','Age':23,'Address':'Katmandu'},\n",
    "    {'Name':'Shyam','Age':33,'Address':'Patan'}\n",
    "]\n",
    "csvfile = open(\"data.csv\", 'w')\n",
    "writer = csv.DictWriter(csvfile, fieldnames=csv_columns)\n",
    "writer.writeheader()\n",
    "for data in dict:\n",
    "    writer.writerow(data)\n",
    "csvfile.close()"
   ]
  },
  {
   "cell_type": "code",
   "execution_count": 12,
   "id": "cdfbb1a9",
   "metadata": {},
   "outputs": [
    {
     "data": {
      "text/html": [
       "<div>\n",
       "<style scoped>\n",
       "    .dataframe tbody tr th:only-of-type {\n",
       "        vertical-align: middle;\n",
       "    }\n",
       "\n",
       "    .dataframe tbody tr th {\n",
       "        vertical-align: top;\n",
       "    }\n",
       "\n",
       "    .dataframe thead th {\n",
       "        text-align: right;\n",
       "    }\n",
       "</style>\n",
       "<table border=\"1\" class=\"dataframe\">\n",
       "  <thead>\n",
       "    <tr style=\"text-align: right;\">\n",
       "      <th></th>\n",
       "      <th>name</th>\n",
       "      <th>age</th>\n",
       "      <th>add</th>\n",
       "    </tr>\n",
       "  </thead>\n",
       "  <tbody>\n",
       "    <tr>\n",
       "      <th>0</th>\n",
       "      <td>Ram</td>\n",
       "      <td>45</td>\n",
       "      <td>Kathmandu</td>\n",
       "    </tr>\n",
       "    <tr>\n",
       "      <th>1</th>\n",
       "      <td>Shyam</td>\n",
       "      <td>67</td>\n",
       "      <td>Bhaktapur</td>\n",
       "    </tr>\n",
       "    <tr>\n",
       "      <th>2</th>\n",
       "      <td>Hari</td>\n",
       "      <td>43</td>\n",
       "      <td>lalitpur</td>\n",
       "    </tr>\n",
       "    <tr>\n",
       "      <th>0</th>\n",
       "      <td>Rama</td>\n",
       "      <td>45</td>\n",
       "      <td>Kathmandu</td>\n",
       "    </tr>\n",
       "    <tr>\n",
       "      <th>1</th>\n",
       "      <td>Shyama</td>\n",
       "      <td>67</td>\n",
       "      <td>Bhaktapur</td>\n",
       "    </tr>\n",
       "    <tr>\n",
       "      <th>2</th>\n",
       "      <td>Hira</td>\n",
       "      <td>43</td>\n",
       "      <td>lalitpur</td>\n",
       "    </tr>\n",
       "  </tbody>\n",
       "</table>\n",
       "</div>"
      ],
      "text/plain": [
       "     name  age        add\n",
       "0     Ram   45  Kathmandu\n",
       "1   Shyam   67  Bhaktapur\n",
       "2    Hari   43   lalitpur\n",
       "0    Rama   45  Kathmandu\n",
       "1  Shyama   67  Bhaktapur\n",
       "2    Hira   43   lalitpur"
      ]
     },
     "execution_count": 12,
     "metadata": {},
     "output_type": "execute_result"
    }
   ],
   "source": [
    "data1 = {'name':['Ram','Shyam','Hari'],\n",
    "       'age':[45,67,43],\n",
    "       'add':[\"Kathmandu\",\"Bhaktapur\",\"lalitpur\"]}\n",
    "df1 = pd.DataFrame(data1)\n",
    "\n",
    "data2 = {'name':['Rama','Shyama','Hira'],\n",
    "       'age':[45,67,43],\n",
    "       'add':[\"Kathmandu\",\"Bhaktapur\",\"lalitpur\"]}\n",
    "df2 = pd.DataFrame(data2)\n",
    "df = pd.concat([df1,df2])\n",
    "# df = df1 +df2\n",
    "df"
   ]
  },
  {
   "cell_type": "code",
   "execution_count": 14,
   "id": "7f2abd9f",
   "metadata": {},
   "outputs": [
    {
     "data": {
      "text/html": [
       "<div>\n",
       "<style scoped>\n",
       "    .dataframe tbody tr th:only-of-type {\n",
       "        vertical-align: middle;\n",
       "    }\n",
       "\n",
       "    .dataframe tbody tr th {\n",
       "        vertical-align: top;\n",
       "    }\n",
       "\n",
       "    .dataframe thead th {\n",
       "        text-align: right;\n",
       "    }\n",
       "</style>\n",
       "<table border=\"1\" class=\"dataframe\">\n",
       "  <thead>\n",
       "    <tr style=\"text-align: right;\">\n",
       "      <th></th>\n",
       "      <th>Name</th>\n",
       "      <th>Age</th>\n",
       "      <th>Add</th>\n",
       "    </tr>\n",
       "  </thead>\n",
       "  <tbody>\n",
       "    <tr>\n",
       "      <th>0</th>\n",
       "      <td>Ram</td>\n",
       "      <td>45</td>\n",
       "      <td>Kathmandu</td>\n",
       "    </tr>\n",
       "    <tr>\n",
       "      <th>1</th>\n",
       "      <td>Shyam</td>\n",
       "      <td>67</td>\n",
       "      <td>Bhaktapur</td>\n",
       "    </tr>\n",
       "    <tr>\n",
       "      <th>2</th>\n",
       "      <td>Hari</td>\n",
       "      <td>43</td>\n",
       "      <td>lalitpur</td>\n",
       "    </tr>\n",
       "    <tr>\n",
       "      <th>0</th>\n",
       "      <td>Rama</td>\n",
       "      <td>45</td>\n",
       "      <td>Kathmandu</td>\n",
       "    </tr>\n",
       "    <tr>\n",
       "      <th>1</th>\n",
       "      <td>Shyama</td>\n",
       "      <td>67</td>\n",
       "      <td>Bhaktapur</td>\n",
       "    </tr>\n",
       "    <tr>\n",
       "      <th>2</th>\n",
       "      <td>Hira</td>\n",
       "      <td>43</td>\n",
       "      <td>lalitpur</td>\n",
       "    </tr>\n",
       "  </tbody>\n",
       "</table>\n",
       "</div>"
      ],
      "text/plain": [
       "     Name  Age        Add\n",
       "0     Ram   45  Kathmandu\n",
       "1   Shyam   67  Bhaktapur\n",
       "2    Hari   43   lalitpur\n",
       "0    Rama   45  Kathmandu\n",
       "1  Shyama   67  Bhaktapur\n",
       "2    Hira   43   lalitpur"
      ]
     },
     "execution_count": 14,
     "metadata": {},
     "output_type": "execute_result"
    }
   ],
   "source": [
    "df = df.rename(columns = {'name':'Name','age':'Age','add':'Add'})\n",
    "df"
   ]
  },
  {
   "cell_type": "code",
   "execution_count": 17,
   "id": "c36e3d03",
   "metadata": {},
   "outputs": [
    {
     "name": "stdout",
     "output_type": "stream",
     "text": [
      "No of rows =  6\n",
      "No os col =  3\n"
     ]
    }
   ],
   "source": [
    "row , col = df.shape\n",
    "print(\"No of rows = \",row)\n",
    "print(\"No os col = \",col)"
   ]
  },
  {
   "cell_type": "code",
   "execution_count": 18,
   "id": "2c4934a6",
   "metadata": {},
   "outputs": [
    {
     "name": "stdout",
     "output_type": "stream",
     "text": [
      "<class 'pandas.core.frame.DataFrame'>\n",
      "Index: 6 entries, 0 to 2\n",
      "Data columns (total 3 columns):\n",
      " #   Column  Non-Null Count  Dtype \n",
      "---  ------  --------------  ----- \n",
      " 0   Name    6 non-null      object\n",
      " 1   Age     6 non-null      int64 \n",
      " 2   Add     6 non-null      object\n",
      "dtypes: int64(1), object(2)\n",
      "memory usage: 192.0+ bytes\n"
     ]
    }
   ],
   "source": [
    "df.info()"
   ]
  },
  {
   "cell_type": "code",
   "execution_count": null,
   "id": "c75261d9",
   "metadata": {},
   "outputs": [],
   "source": []
  }
 ],
 "metadata": {
  "kernelspec": {
   "display_name": "Python 3 (ipykernel)",
   "language": "python",
   "name": "python3"
  },
  "language_info": {
   "codemirror_mode": {
    "name": "ipython",
    "version": 3
   },
   "file_extension": ".py",
   "mimetype": "text/x-python",
   "name": "python",
   "nbconvert_exporter": "python",
   "pygments_lexer": "ipython3",
   "version": "3.9.12"
  }
 },
 "nbformat": 4,
 "nbformat_minor": 5
}
